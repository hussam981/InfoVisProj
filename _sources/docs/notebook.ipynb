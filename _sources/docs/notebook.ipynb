{
 "cells": [
  {
   "cell_type": "markdown",
   "metadata": {},
   "source": [
    "## Terrorisme en de Media\n",
    "\n"
   ]
  },
  {
   "cell_type": "markdown",
   "metadata": {},
   "source": [
    "### Introductie\n",
    "\n",
    "Deze data story volgt een bevestigende benadering. We zullen twee datasets analyseren en visualiseren om bestaande hypotheses te toetsen en overtuigende argumenten te presenteren ter ondersteuning van de verschillende perspectieven die we gedurende deze data story zullen behandelen.\n",
    "\n",
    "Onze focus ligt op de escalatie van terrorisme in zowel westerse als niet-westerse landen en de potentiele invloed van de media. We zullen licht schijnen op het feit dat de media veel van de aanslagen in het westen laat zien en weinig van het niet-westen. Deze veronderstelling wordt ondersteund door eerdere studies (Jetter, 2014), die hebben aangetoond dat de media zich voornamelijk richt op terrorisme in het westen.\n",
    "\n",
    "Tijdens onze analyse zullen we rigoureus de gegevens onderzoeken en opvallende patronen en trends benadrukken. We maken gebruik van gegevensvisualisaties om helder inzicht te verschaffen in de manifestatie van terrorisme en eventuele verschillen tussen westerse en niet-westerse landen. Daarnaast zullen we de focus leggen op de berichtgeving in de media en onderzoeken hoe deze mogelijk van invloed is op het publieke beeld van terrorisme.\n",
    "\n",
    "Met deze data story streven we ernaar om een dieper inzicht te bieden in de complexiteit rondom terrorisme en de rol van de media bij het vormen van percepties. We willen aantonen dat er meerdere perspectieven bestaan en dat het essentieel is om een breed scala aan informatiebronnen te raadplegen om een volledig beeld te krijgen. Door middel van een bevestigende benadering willen we bestaande hypothesen toetsen en concrete inzichten verschaffen die kunnen bijdragen aan een meer gefundeerde discussie over terrorisme en mediaberichtgeving.\n",
    "\n",
    "In deze datastory zullen we twee perspectieven behandelen. Het eerste perspectief is gebaseerd op de constatering dat terrorisme vaker voorkomt buiten het Westen. Deze benadering benadrukt dat terroristische activiteiten zich wereldwijd manifesteren en dat er regionale en geopolitieke factoren zijn die bijdragen aan de verspreiding ervan. Het tweede perspectief werpt een licht op de rol van de media en stelt dat de berichtgeving over terrorisme voornamelijk gericht is op het Westen. Dit perspectief suggereert dat de media een selectieve focus hebben op terroristische incidenten in westerse landen, omdat deze gebeurtenissen doorgaans meer aandacht trekken en een grotere impact hebben op de publieke opinie."
   ]
  },
  {
   "cell_type": "markdown",
   "metadata": {},
   "source": [
    "### Dataset en preprocessing\n",
    "\n",
    "Voor deze datastory zijn twee datasets gebruikt, namelijk de 'Global Terrorism Database' en de 'Population'-dataset. \n",
    "\n",
    "De 'Global Terrorism Database' bevat een groot aantal variabelen die niet relevant zijn voor ons datastory. Daarom hebben we deze irrelevante variabelen verwijderd, waardoor we een kleinere dataset hebben verkregen die specifieke informatie bevat over terroristische aanslagen die wereldwijd hebben plaatsgevonden. Deze gefilterde dataset bevat gegevens over verschillende variabelen die betrekking hebben op deze aanslagen, zoals het jaar van de aanslag, het land waar de aanslag heeft plaatsgevonden, het succes van de aanslag, of het een zelfmoordaanslag was en het aantal gewonden bij de aanslag.\n",
    "\n",
    "De 'Population'-dataset bevat gegevens over de bevolking van verschillende landen. Deze dataset bevat twee belangrijke variabelen: 'county_txt' en 'population'. De variabele 'county_txt' geeft de naam van het land weer, terwijl de variabele 'population' het aantal inwoners van dat land aangeeft.\n",
    "\n",
    "Voor ons datastory hebben we alleen deze twee variabelen behouden, aangezien ze relevant zijn voor het analyseren van de relatie tussen de bevolking van een land en terroristische aanslagen. Door gebruik te maken van deze dataset kunnen we inzicht krijgen in de populatiedynamiek en hoe deze mogelijk van invloed kan zijn op het voorkomen van terroristische activiteiten.\n",
    "\n",
    "Verdere data preprocessing was nodig om de westerse en niet-westerse landen te scheiden, zodat we deze twee kunnen vergelijken in onze visualizaties.\n",
    "\n",
    "Bovendien hebben we twee functies aangemaakt, de ene `cases_count()` retourneert het totale aantal aanslagen door de jaren heen en de andere `cases_sum()` retourneert de som voor het aantal succes, zelfmoord en verlengde gevallen (apart). Deze hebben we nodig voor onze eerste twee visulaizaties."
   ]
  },
  {
   "cell_type": "code",
   "execution_count": 1,
   "metadata": {
    "tags": [
     "hide-input"
    ]
   },
   "outputs": [],
   "source": [
    "'''\n",
    "Nb. for the sake of memory on GithubPages, we have modified the global terrorism database and filtered the columns accoording to our needs. \n",
    "This step is discarded in the code and it has been done before starting with the actual preprocessing of the data. \n",
    "So now we have only 14 columns instead of 135.\n",
    "'''\n",
    "\n",
    "# Import packages\n",
    "import pandas as pd\n",
    "import plotly.express as px\n",
    "import plotly.graph_objs as go\n",
    "\n",
    "# Load global terrorism and population datasets using pandas\n",
    "df_1 = pd.read_csv('globalterrorismdb_0718dist.csv', encoding = 'latin-1', low_memory = False)\n",
    "df_2 = pd.read_csv('Population.csv')\n",
    "\n",
    "# Data preprocessing\n",
    "df_1['west_or_not'] = df_1['region'].apply(lambda x: '1' if x == 1 or x == 12 or x == 8 else '0')\n",
    "df_1['Event'] = 1\n",
    "\n",
    "population = df_2.sort_values(by=['country_txt'])\n",
    "\n",
    "filtered = df_1.filter(items=['country', 'Event', 'success', 'nkill', 'nwound'])\n",
    "grouped = filtered.groupby(\"country\").sum()\n",
    "grouped = grouped.sort_values(by=['country'])\n",
    "\n",
    "filteredwest = df_1.filter(items=['country', 'country_txt', 'west_or_not'])\n",
    "groupedwest = filteredwest.drop_duplicates(subset=['country'])\n",
    "groupedwest = groupedwest.sort_values(by=['country'])\n",
    "\n",
    "totalset = groupedwest.join(grouped, how=\"inner\", on=\"country\")\n",
    "totalset = totalset.merge(population, how='inner', on='country_txt')\n",
    "totalset = totalset.drop(columns=['country', 'World', '#']) \n",
    "\n",
    "totalset = totalset.reset_index()\n",
    "totalset = totalset.drop(columns=[\"index\"])\n",
    "\n",
    "west = totalset[totalset['west_or_not'] != '0']\n",
    "nonwest = totalset[totalset['west_or_not'] != '1']\n",
    "\n",
    "\n",
    "def cases_count(df_1, column_name):\n",
    "\n",
    "    cases_count = df_1.groupby(column_name)['eventid'].count()\n",
    "    \n",
    "    # Create a new DataFrame from the Series object\n",
    "    cases_count_df = pd.DataFrame({column_name: cases_count.index, 'Aantal gevallen': cases_count.values})\n",
    "\n",
    "    # Sort the DataFrame by the number of cases ('Aantal gevallen') column in descending order\n",
    "    cases_count_df = cases_count_df.sort_values('Aantal gevallen', ascending=False)\n",
    "    \n",
    "    \n",
    "    return cases_count_df\n",
    "\n",
    "def cases_sum(df_1, col_group_by, value):\n",
    "\n",
    "    cases_sum = df_1.groupby(col_group_by)[value].sum()\n",
    "    \n",
    "    # Create a new DataFrame from the Series object\n",
    "    cases_sum_df = pd.DataFrame({col_group_by: cases_sum.index, value: cases_sum.values})\n",
    "\n",
    "    # Sort the DataFrame by the number of cases ('Aantal gevallen') column in descending order\n",
    "    cases_sum_df = cases_sum_df.sort_values(value, ascending=False)\n",
    "    \n",
    "    \n",
    "    return cases_sum_df"
   ]
  },
  {
   "cell_type": "markdown",
   "metadata": {},
   "source": [
    "### Perspectieven en argumenten"
   ]
  },
  {
   "cell_type": "code",
   "execution_count": 2,
   "metadata": {
    "tags": [
     "hide-input"
    ]
   },
   "outputs": [
    {
     "data": {
      "application/vnd.plotly.v1+json": {
       "config": {
        "plotlyServerURL": "https://plot.ly"
       },
       "data": [
        {
         "mode": "lines",
         "name": "Totaal gevallen",
         "type": "scatter",
         "x": [
          2017,
          2016,
          2015,
          2014,
          2013,
          2012,
          2011,
          2010,
          2009,
          2008,
          2007,
          2006,
          2005,
          2004,
          2003,
          2002,
          2001,
          2000,
          1999,
          1998,
          1997,
          1996,
          1995,
          1994,
          1992,
          1991,
          1990,
          1989,
          1988,
          1987,
          1986,
          1985,
          1984,
          1983,
          1982,
          1981,
          1980,
          1979,
          1978,
          1977,
          1976,
          1975,
          1974,
          1973,
          1972,
          1971,
          1970
         ],
         "y": [
          10900,
          13587,
          14965,
          16903,
          12036,
          8522,
          5076,
          4826,
          4721,
          4805,
          3242,
          2758,
          2017,
          1166,
          1278,
          1333,
          1906,
          1814,
          1395,
          934,
          3197,
          3058,
          3081,
          3456,
          5071,
          4683,
          3887,
          4324,
          3721,
          3183,
          2860,
          2915,
          3495,
          2870,
          2544,
          2586,
          2662,
          2662,
          1526,
          1319,
          923,
          740,
          581,
          473,
          568,
          471,
          651
         ]
        },
        {
         "mode": "lines",
         "name": "Succesvolle gevallen",
         "type": "scatter",
         "x": [
          2017,
          2016,
          2015,
          2014,
          2013,
          2012,
          2011,
          2010,
          2009,
          2008,
          2007,
          2006,
          2005,
          2004,
          2003,
          2002,
          2001,
          2000,
          1999,
          1998,
          1997,
          1996,
          1995,
          1994,
          1992,
          1991,
          1990,
          1989,
          1988,
          1987,
          1986,
          1985,
          1984,
          1983,
          1982,
          1981,
          1980,
          1979,
          1978,
          1977,
          1976,
          1975,
          1974,
          1973,
          1972,
          1971,
          1970
         ],
         "y": [
          8652,
          10975,
          12676,
          15015,
          10484,
          7600,
          4606,
          4385,
          4430,
          4402,
          3123,
          2660,
          1910,
          1080,
          1149,
          1213,
          1689,
          1637,
          1237,
          859,
          2966,
          2770,
          2794,
          3069,
          4560,
          4299,
          3583,
          4008,
          3440,
          2933,
          2670,
          2727,
          3282,
          2660,
          2373,
          2354,
          2387,
          2408,
          1411,
          1191,
          861,
          705,
          545,
          433,
          452,
          420,
          549
         ]
        },
        {
         "mode": "lines",
         "name": "Uitgebreide gevallen",
         "type": "scatter",
         "x": [
          2017,
          2016,
          2015,
          2014,
          2013,
          2012,
          2011,
          2010,
          2009,
          2008,
          2007,
          2006,
          2005,
          2004,
          2003,
          2002,
          2001,
          2000,
          1999,
          1998,
          1997,
          1996,
          1995,
          1994,
          1992,
          1991,
          1990,
          1989,
          1988,
          1987,
          1986,
          1985,
          1984,
          1983,
          1982,
          1981,
          1980,
          1979,
          1978,
          1977,
          1976,
          1975,
          1974,
          1973,
          1972,
          1971,
          1970
         ],
         "y": [
          748,
          951,
          1036,
          1100,
          575,
          318,
          299,
          331,
          278,
          276,
          151,
          93,
          103,
          69,
          53,
          74,
          121,
          141,
          135,
          84,
          122,
          93,
          81,
          109,
          64,
          90,
          75,
          74,
          62,
          37,
          37,
          42,
          30,
          37,
          20,
          40,
          32,
          45,
          33,
          36,
          27,
          25,
          19,
          30,
          8,
          6,
          29
         ]
        },
        {
         "mode": "lines",
         "name": "Zelfmoordgevallen",
         "type": "scatter",
         "x": [
          2017,
          2016,
          2015,
          2014,
          2013,
          2012,
          2011,
          2010,
          2009,
          2008,
          2007,
          2006,
          2005,
          2004,
          2003,
          2002,
          2001,
          2000,
          1999,
          1998,
          1997,
          1996,
          1995,
          1994,
          1992,
          1991,
          1990,
          1989,
          1988,
          1987,
          1986,
          1985,
          1984,
          1983,
          1982,
          1981,
          1980,
          1979,
          1978,
          1977,
          1976,
          1975,
          1974,
          1973,
          1972,
          1971,
          1970
         ],
         "y": [
          844,
          985,
          922,
          744,
          622,
          402,
          208,
          175,
          183,
          247,
          374,
          183,
          213,
          122,
          89,
          78,
          54,
          37,
          28,
          21,
          11,
          15,
          22,
          11,
          2,
          3,
          2,
          3,
          2,
          3,
          3,
          16,
          2,
          5,
          1,
          1,
          0,
          0,
          0,
          0,
          0,
          0,
          0,
          0,
          0,
          0,
          0
         ]
        }
       ],
       "layout": {
        "template": {
         "data": {
          "bar": [
           {
            "error_x": {
             "color": "#2a3f5f"
            },
            "error_y": {
             "color": "#2a3f5f"
            },
            "marker": {
             "line": {
              "color": "#E5ECF6",
              "width": 0.5
             },
             "pattern": {
              "fillmode": "overlay",
              "size": 10,
              "solidity": 0.2
             }
            },
            "type": "bar"
           }
          ],
          "barpolar": [
           {
            "marker": {
             "line": {
              "color": "#E5ECF6",
              "width": 0.5
             },
             "pattern": {
              "fillmode": "overlay",
              "size": 10,
              "solidity": 0.2
             }
            },
            "type": "barpolar"
           }
          ],
          "carpet": [
           {
            "aaxis": {
             "endlinecolor": "#2a3f5f",
             "gridcolor": "white",
             "linecolor": "white",
             "minorgridcolor": "white",
             "startlinecolor": "#2a3f5f"
            },
            "baxis": {
             "endlinecolor": "#2a3f5f",
             "gridcolor": "white",
             "linecolor": "white",
             "minorgridcolor": "white",
             "startlinecolor": "#2a3f5f"
            },
            "type": "carpet"
           }
          ],
          "choropleth": [
           {
            "colorbar": {
             "outlinewidth": 0,
             "ticks": ""
            },
            "type": "choropleth"
           }
          ],
          "contour": [
           {
            "colorbar": {
             "outlinewidth": 0,
             "ticks": ""
            },
            "colorscale": [
             [
              0,
              "#0d0887"
             ],
             [
              0.1111111111111111,
              "#46039f"
             ],
             [
              0.2222222222222222,
              "#7201a8"
             ],
             [
              0.3333333333333333,
              "#9c179e"
             ],
             [
              0.4444444444444444,
              "#bd3786"
             ],
             [
              0.5555555555555556,
              "#d8576b"
             ],
             [
              0.6666666666666666,
              "#ed7953"
             ],
             [
              0.7777777777777778,
              "#fb9f3a"
             ],
             [
              0.8888888888888888,
              "#fdca26"
             ],
             [
              1,
              "#f0f921"
             ]
            ],
            "type": "contour"
           }
          ],
          "contourcarpet": [
           {
            "colorbar": {
             "outlinewidth": 0,
             "ticks": ""
            },
            "type": "contourcarpet"
           }
          ],
          "heatmap": [
           {
            "colorbar": {
             "outlinewidth": 0,
             "ticks": ""
            },
            "colorscale": [
             [
              0,
              "#0d0887"
             ],
             [
              0.1111111111111111,
              "#46039f"
             ],
             [
              0.2222222222222222,
              "#7201a8"
             ],
             [
              0.3333333333333333,
              "#9c179e"
             ],
             [
              0.4444444444444444,
              "#bd3786"
             ],
             [
              0.5555555555555556,
              "#d8576b"
             ],
             [
              0.6666666666666666,
              "#ed7953"
             ],
             [
              0.7777777777777778,
              "#fb9f3a"
             ],
             [
              0.8888888888888888,
              "#fdca26"
             ],
             [
              1,
              "#f0f921"
             ]
            ],
            "type": "heatmap"
           }
          ],
          "heatmapgl": [
           {
            "colorbar": {
             "outlinewidth": 0,
             "ticks": ""
            },
            "colorscale": [
             [
              0,
              "#0d0887"
             ],
             [
              0.1111111111111111,
              "#46039f"
             ],
             [
              0.2222222222222222,
              "#7201a8"
             ],
             [
              0.3333333333333333,
              "#9c179e"
             ],
             [
              0.4444444444444444,
              "#bd3786"
             ],
             [
              0.5555555555555556,
              "#d8576b"
             ],
             [
              0.6666666666666666,
              "#ed7953"
             ],
             [
              0.7777777777777778,
              "#fb9f3a"
             ],
             [
              0.8888888888888888,
              "#fdca26"
             ],
             [
              1,
              "#f0f921"
             ]
            ],
            "type": "heatmapgl"
           }
          ],
          "histogram": [
           {
            "marker": {
             "pattern": {
              "fillmode": "overlay",
              "size": 10,
              "solidity": 0.2
             }
            },
            "type": "histogram"
           }
          ],
          "histogram2d": [
           {
            "colorbar": {
             "outlinewidth": 0,
             "ticks": ""
            },
            "colorscale": [
             [
              0,
              "#0d0887"
             ],
             [
              0.1111111111111111,
              "#46039f"
             ],
             [
              0.2222222222222222,
              "#7201a8"
             ],
             [
              0.3333333333333333,
              "#9c179e"
             ],
             [
              0.4444444444444444,
              "#bd3786"
             ],
             [
              0.5555555555555556,
              "#d8576b"
             ],
             [
              0.6666666666666666,
              "#ed7953"
             ],
             [
              0.7777777777777778,
              "#fb9f3a"
             ],
             [
              0.8888888888888888,
              "#fdca26"
             ],
             [
              1,
              "#f0f921"
             ]
            ],
            "type": "histogram2d"
           }
          ],
          "histogram2dcontour": [
           {
            "colorbar": {
             "outlinewidth": 0,
             "ticks": ""
            },
            "colorscale": [
             [
              0,
              "#0d0887"
             ],
             [
              0.1111111111111111,
              "#46039f"
             ],
             [
              0.2222222222222222,
              "#7201a8"
             ],
             [
              0.3333333333333333,
              "#9c179e"
             ],
             [
              0.4444444444444444,
              "#bd3786"
             ],
             [
              0.5555555555555556,
              "#d8576b"
             ],
             [
              0.6666666666666666,
              "#ed7953"
             ],
             [
              0.7777777777777778,
              "#fb9f3a"
             ],
             [
              0.8888888888888888,
              "#fdca26"
             ],
             [
              1,
              "#f0f921"
             ]
            ],
            "type": "histogram2dcontour"
           }
          ],
          "mesh3d": [
           {
            "colorbar": {
             "outlinewidth": 0,
             "ticks": ""
            },
            "type": "mesh3d"
           }
          ],
          "parcoords": [
           {
            "line": {
             "colorbar": {
              "outlinewidth": 0,
              "ticks": ""
             }
            },
            "type": "parcoords"
           }
          ],
          "pie": [
           {
            "automargin": true,
            "type": "pie"
           }
          ],
          "scatter": [
           {
            "fillpattern": {
             "fillmode": "overlay",
             "size": 10,
             "solidity": 0.2
            },
            "type": "scatter"
           }
          ],
          "scatter3d": [
           {
            "line": {
             "colorbar": {
              "outlinewidth": 0,
              "ticks": ""
             }
            },
            "marker": {
             "colorbar": {
              "outlinewidth": 0,
              "ticks": ""
             }
            },
            "type": "scatter3d"
           }
          ],
          "scattercarpet": [
           {
            "marker": {
             "colorbar": {
              "outlinewidth": 0,
              "ticks": ""
             }
            },
            "type": "scattercarpet"
           }
          ],
          "scattergeo": [
           {
            "marker": {
             "colorbar": {
              "outlinewidth": 0,
              "ticks": ""
             }
            },
            "type": "scattergeo"
           }
          ],
          "scattergl": [
           {
            "marker": {
             "colorbar": {
              "outlinewidth": 0,
              "ticks": ""
             }
            },
            "type": "scattergl"
           }
          ],
          "scattermapbox": [
           {
            "marker": {
             "colorbar": {
              "outlinewidth": 0,
              "ticks": ""
             }
            },
            "type": "scattermapbox"
           }
          ],
          "scatterpolar": [
           {
            "marker": {
             "colorbar": {
              "outlinewidth": 0,
              "ticks": ""
             }
            },
            "type": "scatterpolar"
           }
          ],
          "scatterpolargl": [
           {
            "marker": {
             "colorbar": {
              "outlinewidth": 0,
              "ticks": ""
             }
            },
            "type": "scatterpolargl"
           }
          ],
          "scatterternary": [
           {
            "marker": {
             "colorbar": {
              "outlinewidth": 0,
              "ticks": ""
             }
            },
            "type": "scatterternary"
           }
          ],
          "surface": [
           {
            "colorbar": {
             "outlinewidth": 0,
             "ticks": ""
            },
            "colorscale": [
             [
              0,
              "#0d0887"
             ],
             [
              0.1111111111111111,
              "#46039f"
             ],
             [
              0.2222222222222222,
              "#7201a8"
             ],
             [
              0.3333333333333333,
              "#9c179e"
             ],
             [
              0.4444444444444444,
              "#bd3786"
             ],
             [
              0.5555555555555556,
              "#d8576b"
             ],
             [
              0.6666666666666666,
              "#ed7953"
             ],
             [
              0.7777777777777778,
              "#fb9f3a"
             ],
             [
              0.8888888888888888,
              "#fdca26"
             ],
             [
              1,
              "#f0f921"
             ]
            ],
            "type": "surface"
           }
          ],
          "table": [
           {
            "cells": {
             "fill": {
              "color": "#EBF0F8"
             },
             "line": {
              "color": "white"
             }
            },
            "header": {
             "fill": {
              "color": "#C8D4E3"
             },
             "line": {
              "color": "white"
             }
            },
            "type": "table"
           }
          ]
         },
         "layout": {
          "annotationdefaults": {
           "arrowcolor": "#2a3f5f",
           "arrowhead": 0,
           "arrowwidth": 1
          },
          "autotypenumbers": "strict",
          "coloraxis": {
           "colorbar": {
            "outlinewidth": 0,
            "ticks": ""
           }
          },
          "colorscale": {
           "diverging": [
            [
             0,
             "#8e0152"
            ],
            [
             0.1,
             "#c51b7d"
            ],
            [
             0.2,
             "#de77ae"
            ],
            [
             0.3,
             "#f1b6da"
            ],
            [
             0.4,
             "#fde0ef"
            ],
            [
             0.5,
             "#f7f7f7"
            ],
            [
             0.6,
             "#e6f5d0"
            ],
            [
             0.7,
             "#b8e186"
            ],
            [
             0.8,
             "#7fbc41"
            ],
            [
             0.9,
             "#4d9221"
            ],
            [
             1,
             "#276419"
            ]
           ],
           "sequential": [
            [
             0,
             "#0d0887"
            ],
            [
             0.1111111111111111,
             "#46039f"
            ],
            [
             0.2222222222222222,
             "#7201a8"
            ],
            [
             0.3333333333333333,
             "#9c179e"
            ],
            [
             0.4444444444444444,
             "#bd3786"
            ],
            [
             0.5555555555555556,
             "#d8576b"
            ],
            [
             0.6666666666666666,
             "#ed7953"
            ],
            [
             0.7777777777777778,
             "#fb9f3a"
            ],
            [
             0.8888888888888888,
             "#fdca26"
            ],
            [
             1,
             "#f0f921"
            ]
           ],
           "sequentialminus": [
            [
             0,
             "#0d0887"
            ],
            [
             0.1111111111111111,
             "#46039f"
            ],
            [
             0.2222222222222222,
             "#7201a8"
            ],
            [
             0.3333333333333333,
             "#9c179e"
            ],
            [
             0.4444444444444444,
             "#bd3786"
            ],
            [
             0.5555555555555556,
             "#d8576b"
            ],
            [
             0.6666666666666666,
             "#ed7953"
            ],
            [
             0.7777777777777778,
             "#fb9f3a"
            ],
            [
             0.8888888888888888,
             "#fdca26"
            ],
            [
             1,
             "#f0f921"
            ]
           ]
          },
          "colorway": [
           "#636efa",
           "#EF553B",
           "#00cc96",
           "#ab63fa",
           "#FFA15A",
           "#19d3f3",
           "#FF6692",
           "#B6E880",
           "#FF97FF",
           "#FECB52"
          ],
          "font": {
           "color": "#2a3f5f"
          },
          "geo": {
           "bgcolor": "white",
           "lakecolor": "white",
           "landcolor": "#E5ECF6",
           "showlakes": true,
           "showland": true,
           "subunitcolor": "white"
          },
          "hoverlabel": {
           "align": "left"
          },
          "hovermode": "closest",
          "mapbox": {
           "style": "light"
          },
          "paper_bgcolor": "white",
          "plot_bgcolor": "#E5ECF6",
          "polar": {
           "angularaxis": {
            "gridcolor": "white",
            "linecolor": "white",
            "ticks": ""
           },
           "bgcolor": "#E5ECF6",
           "radialaxis": {
            "gridcolor": "white",
            "linecolor": "white",
            "ticks": ""
           }
          },
          "scene": {
           "xaxis": {
            "backgroundcolor": "#E5ECF6",
            "gridcolor": "white",
            "gridwidth": 2,
            "linecolor": "white",
            "showbackground": true,
            "ticks": "",
            "zerolinecolor": "white"
           },
           "yaxis": {
            "backgroundcolor": "#E5ECF6",
            "gridcolor": "white",
            "gridwidth": 2,
            "linecolor": "white",
            "showbackground": true,
            "ticks": "",
            "zerolinecolor": "white"
           },
           "zaxis": {
            "backgroundcolor": "#E5ECF6",
            "gridcolor": "white",
            "gridwidth": 2,
            "linecolor": "white",
            "showbackground": true,
            "ticks": "",
            "zerolinecolor": "white"
           }
          },
          "shapedefaults": {
           "line": {
            "color": "#2a3f5f"
           }
          },
          "ternary": {
           "aaxis": {
            "gridcolor": "white",
            "linecolor": "white",
            "ticks": ""
           },
           "baxis": {
            "gridcolor": "white",
            "linecolor": "white",
            "ticks": ""
           },
           "bgcolor": "#E5ECF6",
           "caxis": {
            "gridcolor": "white",
            "linecolor": "white",
            "ticks": ""
           }
          },
          "title": {
           "x": 0.05
          },
          "xaxis": {
           "automargin": true,
           "gridcolor": "white",
           "linecolor": "white",
           "ticks": "",
           "title": {
            "standoff": 15
           },
           "zerolinecolor": "white",
           "zerolinewidth": 2
          },
          "yaxis": {
           "automargin": true,
           "gridcolor": "white",
           "linecolor": "white",
           "ticks": "",
           "title": {
            "standoff": 15
           },
           "zerolinecolor": "white",
           "zerolinewidth": 2
          }
         }
        },
        "title": {
         "text": "Aantal aanslagen wereldwijd door de jaren heen"
        },
        "xaxis": {
         "title": {
          "text": "Year"
         }
        },
        "yaxis": {
         "title": {
          "text": "Cases"
         }
        }
       }
      }
     },
     "metadata": {},
     "output_type": "display_data"
    }
   ],
   "source": [
    "\n",
    "# Total cases\n",
    "cases_year_count_df = cases_count(df_1,\"iyear\")\n",
    "\n",
    "# Extended cases (incident extended more than 24 hours)\n",
    "extended_cases_sum_df = cases_sum(df_1,'iyear','extended')\n",
    "\n",
    "# Success cases\n",
    "success_cases_sum_df = cases_sum(df_1,'iyear','success')\n",
    "\n",
    "# Suicide cases\n",
    "suicide_cases_sum_df = cases_sum(df_1,'iyear','suicide')\n",
    "\n",
    "# Merge columns on \"iyear\"\n",
    "cases_by_year_df = pd.merge(cases_year_count_df, extended_cases_sum_df, on = 'iyear', how='left').merge(success_cases_sum_df, on = 'iyear').merge(suicide_cases_sum_df, on = 'iyear')\n",
    "# Create a line chart using Plotly\n",
    "cases_by_year_df = cases_by_year_df.sort_values('iyear', ascending=False)\n",
    "\n",
    "# Create Scatter traces for extended cases and success cases and suicide cases\n",
    "total_cases = go.Scatter(x=cases_by_year_df['iyear'], y=cases_by_year_df['Aantal gevallen'], mode='lines', name='Totaal gevallen')\n",
    "success_cases = go.Scatter(x=cases_by_year_df['iyear'], y=cases_by_year_df['success'], mode='lines', name='Succesvolle gevallen')\n",
    "extended_cases = go.Scatter(x=cases_by_year_df['iyear'], y=cases_by_year_df['extended'], mode='lines', name='Uitgebreide gevallen')\n",
    "suicide_cases = go.Scatter(x=cases_by_year_df['iyear'], y=cases_by_year_df['suicide'], mode='lines', name='Zelfmoordgevallen')\n",
    "\n",
    "# Add traces to a single Figure object\n",
    "fig = go.Figure(data=[total_cases, success_cases, extended_cases, suicide_cases])\n",
    "fig.update_layout(title='Aantal aanslagen wereldwijd door de jaren heen', xaxis_title='Year', yaxis_title='Cases')\n",
    "fig.show()"
   ]
  },
  {
   "cell_type": "markdown",
   "metadata": {},
   "source": [
    "\n",
    "De bovenstaande grafiek toont een opvallend sterke stijgende trend in het aantal aanslagen wereldwijd door de jaren heen. Aan het moment waarop de sterke groei is ingezet zouden we kunnen afleiden dat dit te maken heeft met de media. Rond die tijd is media groter geworden naar aanleding van de opkomst van de mobiele telefoon. De vraag is echter, zijn er daadwerkelijk meer aanslagen gebeurd of is het aantal hetzelfde gebleven en weten we van meer aanslagen door het gebruik van de mobiele telefoon.\n",
    "\n",
    "Aanslagen die in buiten gebieden gebeurden, zoals dorpen ergens midden in een woestijn, konden wij vroeger erg gemakkelijk niet van horen. Wij hebben namelijk weinig tot geen contact met deze mensen omdat het erg ver weg is. Tegenwoordig kunnen de mensen uit zo'n buitengebied alles posten en gemakkelijk mensen bellen waardoor de informatie snel verspreid wordt.\n",
    "\n",
    "Een vraag die hieruit afgeleid kan worden; is de hoeveelheid terrorisme gelijk gebleven en weten we het nu meer of is er wat anders aan de hand? Een andere mogelijkheid is namelijk dat er meer terrorisme gebeurd door de betere verspreiding. Als jij jouw mening wilt laten weten kan dit nu makkelijk door middel van een terroristische aanslag. Deze aanslag zal dan verspreid worden en zo ook jouw boodschap erbij. "
   ]
  },
  {
   "cell_type": "code",
   "execution_count": 3,
   "metadata": {
    "tags": [
     "hide-input"
    ]
   },
   "outputs": [
    {
     "data": {
      "application/vnd.plotly.v1+json": {
       "config": {
        "plotlyServerURL": "https://plot.ly"
       },
       "data": [
        {
         "coloraxis": "coloraxis",
         "geo": "geo",
         "hovertemplate": "<b>%{hovertext}</b><br><br>country_txt=%{location}<br>Aantal gevallen=%{z}<extra></extra>",
         "hovertext": [
          "Iraq",
          "Pakistan",
          "Afghanistan",
          "India",
          "Colombia",
          "Philippines",
          "Peru",
          "El Salvador",
          "United Kingdom",
          "Turkey",
          "Somalia",
          "Nigeria",
          "Thailand",
          "Yemen",
          "Spain",
          "Sri Lanka",
          "United States",
          "Algeria",
          "France",
          "Egypt",
          "Lebanon",
          "Chile",
          "Libya",
          "West Bank and Gaza Strip",
          "Syria",
          "Russia",
          "Israel",
          "Guatemala",
          "South Africa",
          "Nicaragua",
          "Ukraine",
          "Bangladesh",
          "Italy",
          "Greece",
          "Nepal",
          "Sudan",
          "Argentina",
          "Democratic Republic of the Congo",
          "Indonesia",
          "Germany",
          "Iran",
          "Kenya",
          "Burundi",
          "Mali",
          "Myanmar",
          "West Germany (FRG)",
          "Mexico",
          "Angola",
          "Japan",
          "Uganda",
          "Saudi Arabia",
          "Mozambique",
          "Cameroon",
          "Honduras",
          "Bolivia",
          "Ireland",
          "Venezuela",
          "Central African Republic",
          "Brazil",
          "Cambodia",
          "China",
          "South Sudan",
          "Ecuador",
          "Georgia",
          "Haiti",
          "Bahrain",
          "Yugoslavia",
          "Kosovo",
          "Ethiopia",
          "Tajikistan",
          "Bosnia-Herzegovina",
          "Rwanda",
          "Belgium",
          "Niger",
          "Namibia",
          "Portugal",
          "Sweden",
          "Cyprus",
          "Netherlands",
          "Panama",
          "Macedonia",
          "Senegal",
          "Austria",
          "Australia",
          "Paraguay",
          "Jordan",
          "Switzerland",
          "Tunisia",
          "Sierra Leone",
          "Zimbabwe",
          "Malaysia",
          "Canada",
          "Chad",
          "Dominican Republic",
          "Papua New Guinea",
          "Rhodesia",
          "Uruguay",
          "Albania",
          "Soviet Union",
          "Kuwait",
          "Ivory Coast",
          "Costa Rica",
          "Suriname",
          "Zambia",
          "Tanzania",
          "Croatia",
          "Guadeloupe",
          "Bulgaria",
          "Burkina Faso",
          "Zaire",
          "Taiwan",
          "Azerbaijan",
          "Togo",
          "Hungary",
          "Denmark",
          "Poland",
          "South Korea",
          "East Germany (GDR)",
          "Morocco",
          "Jamaica",
          "Republic of the Congo",
          "Kyrgyzstan",
          "Liberia",
          "Macau",
          "Czech Republic",
          "New Caledonia",
          "Cuba",
          "Lesotho",
          "Kazakhstan",
          "Laos",
          "Madagascar",
          "Guyana",
          "Hong Kong",
          "Guinea",
          "Armenia",
          "Malta",
          "United Arab Emirates",
          "Trinidad and Tobago",
          "Djibouti",
          "Maldives",
          "Moldova",
          "Uzbekistan",
          "New Zealand",
          "Finland",
          "Ghana",
          "Norway",
          "Slovak Republic",
          "Mauritania",
          "Fiji",
          "Latvia",
          "Estonia",
          "Luxembourg",
          "Swaziland",
          "Belarus",
          "Vietnam",
          "Martinique",
          "Serbia",
          "Serbia-Montenegro",
          "East Timor",
          "Eritrea",
          "Botswana",
          "Czechoslovakia",
          "Guinea-Bissau",
          "Belize",
          "Gabon",
          "Benin",
          "Lithuania",
          "Qatar",
          "French Guiana",
          "Singapore",
          "Romania",
          "North Yemen",
          "Bhutan",
          "Brunei",
          "Slovenia",
          "Western Sahara",
          "Malawi",
          "Grenada",
          "Comoros",
          "Montenegro",
          "Bahamas",
          "Solomon Islands",
          "Iceland",
          "People's Republic of the Congo",
          "Gambia",
          "Barbados",
          "French Polynesia",
          "Dominica",
          "Mauritius",
          "Turkmenistan",
          "Equatorial Guinea",
          "Vanuatu",
          "St. Kitts and Nevis",
          "South Yemen",
          "Seychelles",
          "International",
          "Andorra",
          "Falkland Islands",
          "Wallis and Futuna",
          "Vatican City",
          "Antigua and Barbuda",
          "New Hebrides",
          "St. Lucia",
          "South Vietnam",
          "North Korea"
         ],
         "locationmode": "country names",
         "locations": [
          "Iraq",
          "Pakistan",
          "Afghanistan",
          "India",
          "Colombia",
          "Philippines",
          "Peru",
          "El Salvador",
          "United Kingdom",
          "Turkey",
          "Somalia",
          "Nigeria",
          "Thailand",
          "Yemen",
          "Spain",
          "Sri Lanka",
          "United States",
          "Algeria",
          "France",
          "Egypt",
          "Lebanon",
          "Chile",
          "Libya",
          "West Bank and Gaza Strip",
          "Syria",
          "Russia",
          "Israel",
          "Guatemala",
          "South Africa",
          "Nicaragua",
          "Ukraine",
          "Bangladesh",
          "Italy",
          "Greece",
          "Nepal",
          "Sudan",
          "Argentina",
          "Democratic Republic of the Congo",
          "Indonesia",
          "Germany",
          "Iran",
          "Kenya",
          "Burundi",
          "Mali",
          "Myanmar",
          "West Germany (FRG)",
          "Mexico",
          "Angola",
          "Japan",
          "Uganda",
          "Saudi Arabia",
          "Mozambique",
          "Cameroon",
          "Honduras",
          "Bolivia",
          "Ireland",
          "Venezuela",
          "Central African Republic",
          "Brazil",
          "Cambodia",
          "China",
          "South Sudan",
          "Ecuador",
          "Georgia",
          "Haiti",
          "Bahrain",
          "Yugoslavia",
          "Kosovo",
          "Ethiopia",
          "Tajikistan",
          "Bosnia-Herzegovina",
          "Rwanda",
          "Belgium",
          "Niger",
          "Namibia",
          "Portugal",
          "Sweden",
          "Cyprus",
          "Netherlands",
          "Panama",
          "Macedonia",
          "Senegal",
          "Austria",
          "Australia",
          "Paraguay",
          "Jordan",
          "Switzerland",
          "Tunisia",
          "Sierra Leone",
          "Zimbabwe",
          "Malaysia",
          "Canada",
          "Chad",
          "Dominican Republic",
          "Papua New Guinea",
          "Rhodesia",
          "Uruguay",
          "Albania",
          "Soviet Union",
          "Kuwait",
          "Ivory Coast",
          "Costa Rica",
          "Suriname",
          "Zambia",
          "Tanzania",
          "Croatia",
          "Guadeloupe",
          "Bulgaria",
          "Burkina Faso",
          "Zaire",
          "Taiwan",
          "Azerbaijan",
          "Togo",
          "Hungary",
          "Denmark",
          "Poland",
          "South Korea",
          "East Germany (GDR)",
          "Morocco",
          "Jamaica",
          "Republic of the Congo",
          "Kyrgyzstan",
          "Liberia",
          "Macau",
          "Czech Republic",
          "New Caledonia",
          "Cuba",
          "Lesotho",
          "Kazakhstan",
          "Laos",
          "Madagascar",
          "Guyana",
          "Hong Kong",
          "Guinea",
          "Armenia",
          "Malta",
          "United Arab Emirates",
          "Trinidad and Tobago",
          "Djibouti",
          "Maldives",
          "Moldova",
          "Uzbekistan",
          "New Zealand",
          "Finland",
          "Ghana",
          "Norway",
          "Slovak Republic",
          "Mauritania",
          "Fiji",
          "Latvia",
          "Estonia",
          "Luxembourg",
          "Swaziland",
          "Belarus",
          "Vietnam",
          "Martinique",
          "Serbia",
          "Serbia-Montenegro",
          "East Timor",
          "Eritrea",
          "Botswana",
          "Czechoslovakia",
          "Guinea-Bissau",
          "Belize",
          "Gabon",
          "Benin",
          "Lithuania",
          "Qatar",
          "French Guiana",
          "Singapore",
          "Romania",
          "North Yemen",
          "Bhutan",
          "Brunei",
          "Slovenia",
          "Western Sahara",
          "Malawi",
          "Grenada",
          "Comoros",
          "Montenegro",
          "Bahamas",
          "Solomon Islands",
          "Iceland",
          "People's Republic of the Congo",
          "Gambia",
          "Barbados",
          "French Polynesia",
          "Dominica",
          "Mauritius",
          "Turkmenistan",
          "Equatorial Guinea",
          "Vanuatu",
          "St. Kitts and Nevis",
          "South Yemen",
          "Seychelles",
          "International",
          "Andorra",
          "Falkland Islands",
          "Wallis and Futuna",
          "Vatican City",
          "Antigua and Barbuda",
          "New Hebrides",
          "St. Lucia",
          "South Vietnam",
          "North Korea"
         ],
         "name": "",
         "type": "choropleth",
         "z": [
          24636,
          14368,
          12731,
          11960,
          8306,
          6908,
          6096,
          5320,
          5235,
          4292,
          4142,
          3907,
          3849,
          3347,
          3249,
          3022,
          2836,
          2743,
          2693,
          2479,
          2478,
          2365,
          2249,
          2227,
          2201,
          2194,
          2183,
          2050,
          2016,
          1970,
          1709,
          1648,
          1565,
          1275,
          1215,
          967,
          815,
          775,
          761,
          735,
          684,
          683,
          613,
          566,
          546,
          541,
          524,
          499,
          402,
          394,
          371,
          363,
          332,
          323,
          314,
          307,
          293,
          283,
          273,
          259,
          252,
          225,
          220,
          217,
          213,
          207,
          203,
          196,
          190,
          188,
          159,
          159,
          154,
          154,
          151,
          140,
          132,
          132,
          130,
          127,
          118,
          118,
          115,
          114,
          114,
          113,
          111,
          109,
          101,
          101,
          99,
          96,
          91,
          90,
          89,
          83,
          82,
          80,
          78,
          76,
          74,
          67,
          66,
          62,
          59,
          57,
          56,
          52,
          52,
          50,
          50,
          49,
          48,
          46,
          41,
          39,
          38,
          38,
          36,
          36,
          36,
          35,
          34,
          33,
          32,
          31,
          30,
          29,
          27,
          27,
          27,
          26,
          26,
          25,
          24,
          23,
          22,
          22,
          22,
          22,
          21,
          21,
          20,
          20,
          19,
          19,
          18,
          18,
          17,
          17,
          16,
          16,
          16,
          13,
          12,
          12,
          12,
          11,
          10,
          10,
          10,
          10,
          9,
          8,
          8,
          8,
          8,
          7,
          7,
          7,
          6,
          6,
          6,
          6,
          6,
          5,
          5,
          5,
          5,
          5,
          5,
          4,
          4,
          4,
          3,
          3,
          3,
          3,
          2,
          2,
          2,
          2,
          2,
          2,
          2,
          1,
          1,
          1,
          1,
          1,
          1,
          1,
          1,
          1,
          1
         ]
        }
       ],
       "layout": {
        "coloraxis": {
         "colorbar": {
          "title": {
           "text": "Aantal gevallen"
          }
         },
         "colorscale": [
          [
           0,
           "#0d0887"
          ],
          [
           0.1111111111111111,
           "#46039f"
          ],
          [
           0.2222222222222222,
           "#7201a8"
          ],
          [
           0.3333333333333333,
           "#9c179e"
          ],
          [
           0.4444444444444444,
           "#bd3786"
          ],
          [
           0.5555555555555556,
           "#d8576b"
          ],
          [
           0.6666666666666666,
           "#ed7953"
          ],
          [
           0.7777777777777778,
           "#fb9f3a"
          ],
          [
           0.8888888888888888,
           "#fdca26"
          ],
          [
           1,
           "#f0f921"
          ]
         ]
        },
        "geo": {
         "center": {},
         "domain": {
          "x": [
           0,
           1
          ],
          "y": [
           0,
           1
          ]
         },
         "projection": {
          "type": "natural earth"
         }
        },
        "legend": {
         "tracegroupgap": 0
        },
        "margin": {
         "t": 60
        },
        "template": {
         "data": {
          "bar": [
           {
            "error_x": {
             "color": "#2a3f5f"
            },
            "error_y": {
             "color": "#2a3f5f"
            },
            "marker": {
             "line": {
              "color": "#E5ECF6",
              "width": 0.5
             },
             "pattern": {
              "fillmode": "overlay",
              "size": 10,
              "solidity": 0.2
             }
            },
            "type": "bar"
           }
          ],
          "barpolar": [
           {
            "marker": {
             "line": {
              "color": "#E5ECF6",
              "width": 0.5
             },
             "pattern": {
              "fillmode": "overlay",
              "size": 10,
              "solidity": 0.2
             }
            },
            "type": "barpolar"
           }
          ],
          "carpet": [
           {
            "aaxis": {
             "endlinecolor": "#2a3f5f",
             "gridcolor": "white",
             "linecolor": "white",
             "minorgridcolor": "white",
             "startlinecolor": "#2a3f5f"
            },
            "baxis": {
             "endlinecolor": "#2a3f5f",
             "gridcolor": "white",
             "linecolor": "white",
             "minorgridcolor": "white",
             "startlinecolor": "#2a3f5f"
            },
            "type": "carpet"
           }
          ],
          "choropleth": [
           {
            "colorbar": {
             "outlinewidth": 0,
             "ticks": ""
            },
            "type": "choropleth"
           }
          ],
          "contour": [
           {
            "colorbar": {
             "outlinewidth": 0,
             "ticks": ""
            },
            "colorscale": [
             [
              0,
              "#0d0887"
             ],
             [
              0.1111111111111111,
              "#46039f"
             ],
             [
              0.2222222222222222,
              "#7201a8"
             ],
             [
              0.3333333333333333,
              "#9c179e"
             ],
             [
              0.4444444444444444,
              "#bd3786"
             ],
             [
              0.5555555555555556,
              "#d8576b"
             ],
             [
              0.6666666666666666,
              "#ed7953"
             ],
             [
              0.7777777777777778,
              "#fb9f3a"
             ],
             [
              0.8888888888888888,
              "#fdca26"
             ],
             [
              1,
              "#f0f921"
             ]
            ],
            "type": "contour"
           }
          ],
          "contourcarpet": [
           {
            "colorbar": {
             "outlinewidth": 0,
             "ticks": ""
            },
            "type": "contourcarpet"
           }
          ],
          "heatmap": [
           {
            "colorbar": {
             "outlinewidth": 0,
             "ticks": ""
            },
            "colorscale": [
             [
              0,
              "#0d0887"
             ],
             [
              0.1111111111111111,
              "#46039f"
             ],
             [
              0.2222222222222222,
              "#7201a8"
             ],
             [
              0.3333333333333333,
              "#9c179e"
             ],
             [
              0.4444444444444444,
              "#bd3786"
             ],
             [
              0.5555555555555556,
              "#d8576b"
             ],
             [
              0.6666666666666666,
              "#ed7953"
             ],
             [
              0.7777777777777778,
              "#fb9f3a"
             ],
             [
              0.8888888888888888,
              "#fdca26"
             ],
             [
              1,
              "#f0f921"
             ]
            ],
            "type": "heatmap"
           }
          ],
          "heatmapgl": [
           {
            "colorbar": {
             "outlinewidth": 0,
             "ticks": ""
            },
            "colorscale": [
             [
              0,
              "#0d0887"
             ],
             [
              0.1111111111111111,
              "#46039f"
             ],
             [
              0.2222222222222222,
              "#7201a8"
             ],
             [
              0.3333333333333333,
              "#9c179e"
             ],
             [
              0.4444444444444444,
              "#bd3786"
             ],
             [
              0.5555555555555556,
              "#d8576b"
             ],
             [
              0.6666666666666666,
              "#ed7953"
             ],
             [
              0.7777777777777778,
              "#fb9f3a"
             ],
             [
              0.8888888888888888,
              "#fdca26"
             ],
             [
              1,
              "#f0f921"
             ]
            ],
            "type": "heatmapgl"
           }
          ],
          "histogram": [
           {
            "marker": {
             "pattern": {
              "fillmode": "overlay",
              "size": 10,
              "solidity": 0.2
             }
            },
            "type": "histogram"
           }
          ],
          "histogram2d": [
           {
            "colorbar": {
             "outlinewidth": 0,
             "ticks": ""
            },
            "colorscale": [
             [
              0,
              "#0d0887"
             ],
             [
              0.1111111111111111,
              "#46039f"
             ],
             [
              0.2222222222222222,
              "#7201a8"
             ],
             [
              0.3333333333333333,
              "#9c179e"
             ],
             [
              0.4444444444444444,
              "#bd3786"
             ],
             [
              0.5555555555555556,
              "#d8576b"
             ],
             [
              0.6666666666666666,
              "#ed7953"
             ],
             [
              0.7777777777777778,
              "#fb9f3a"
             ],
             [
              0.8888888888888888,
              "#fdca26"
             ],
             [
              1,
              "#f0f921"
             ]
            ],
            "type": "histogram2d"
           }
          ],
          "histogram2dcontour": [
           {
            "colorbar": {
             "outlinewidth": 0,
             "ticks": ""
            },
            "colorscale": [
             [
              0,
              "#0d0887"
             ],
             [
              0.1111111111111111,
              "#46039f"
             ],
             [
              0.2222222222222222,
              "#7201a8"
             ],
             [
              0.3333333333333333,
              "#9c179e"
             ],
             [
              0.4444444444444444,
              "#bd3786"
             ],
             [
              0.5555555555555556,
              "#d8576b"
             ],
             [
              0.6666666666666666,
              "#ed7953"
             ],
             [
              0.7777777777777778,
              "#fb9f3a"
             ],
             [
              0.8888888888888888,
              "#fdca26"
             ],
             [
              1,
              "#f0f921"
             ]
            ],
            "type": "histogram2dcontour"
           }
          ],
          "mesh3d": [
           {
            "colorbar": {
             "outlinewidth": 0,
             "ticks": ""
            },
            "type": "mesh3d"
           }
          ],
          "parcoords": [
           {
            "line": {
             "colorbar": {
              "outlinewidth": 0,
              "ticks": ""
             }
            },
            "type": "parcoords"
           }
          ],
          "pie": [
           {
            "automargin": true,
            "type": "pie"
           }
          ],
          "scatter": [
           {
            "fillpattern": {
             "fillmode": "overlay",
             "size": 10,
             "solidity": 0.2
            },
            "type": "scatter"
           }
          ],
          "scatter3d": [
           {
            "line": {
             "colorbar": {
              "outlinewidth": 0,
              "ticks": ""
             }
            },
            "marker": {
             "colorbar": {
              "outlinewidth": 0,
              "ticks": ""
             }
            },
            "type": "scatter3d"
           }
          ],
          "scattercarpet": [
           {
            "marker": {
             "colorbar": {
              "outlinewidth": 0,
              "ticks": ""
             }
            },
            "type": "scattercarpet"
           }
          ],
          "scattergeo": [
           {
            "marker": {
             "colorbar": {
              "outlinewidth": 0,
              "ticks": ""
             }
            },
            "type": "scattergeo"
           }
          ],
          "scattergl": [
           {
            "marker": {
             "colorbar": {
              "outlinewidth": 0,
              "ticks": ""
             }
            },
            "type": "scattergl"
           }
          ],
          "scattermapbox": [
           {
            "marker": {
             "colorbar": {
              "outlinewidth": 0,
              "ticks": ""
             }
            },
            "type": "scattermapbox"
           }
          ],
          "scatterpolar": [
           {
            "marker": {
             "colorbar": {
              "outlinewidth": 0,
              "ticks": ""
             }
            },
            "type": "scatterpolar"
           }
          ],
          "scatterpolargl": [
           {
            "marker": {
             "colorbar": {
              "outlinewidth": 0,
              "ticks": ""
             }
            },
            "type": "scatterpolargl"
           }
          ],
          "scatterternary": [
           {
            "marker": {
             "colorbar": {
              "outlinewidth": 0,
              "ticks": ""
             }
            },
            "type": "scatterternary"
           }
          ],
          "surface": [
           {
            "colorbar": {
             "outlinewidth": 0,
             "ticks": ""
            },
            "colorscale": [
             [
              0,
              "#0d0887"
             ],
             [
              0.1111111111111111,
              "#46039f"
             ],
             [
              0.2222222222222222,
              "#7201a8"
             ],
             [
              0.3333333333333333,
              "#9c179e"
             ],
             [
              0.4444444444444444,
              "#bd3786"
             ],
             [
              0.5555555555555556,
              "#d8576b"
             ],
             [
              0.6666666666666666,
              "#ed7953"
             ],
             [
              0.7777777777777778,
              "#fb9f3a"
             ],
             [
              0.8888888888888888,
              "#fdca26"
             ],
             [
              1,
              "#f0f921"
             ]
            ],
            "type": "surface"
           }
          ],
          "table": [
           {
            "cells": {
             "fill": {
              "color": "#EBF0F8"
             },
             "line": {
              "color": "white"
             }
            },
            "header": {
             "fill": {
              "color": "#C8D4E3"
             },
             "line": {
              "color": "white"
             }
            },
            "type": "table"
           }
          ]
         },
         "layout": {
          "annotationdefaults": {
           "arrowcolor": "#2a3f5f",
           "arrowhead": 0,
           "arrowwidth": 1
          },
          "autotypenumbers": "strict",
          "coloraxis": {
           "colorbar": {
            "outlinewidth": 0,
            "ticks": ""
           }
          },
          "colorscale": {
           "diverging": [
            [
             0,
             "#8e0152"
            ],
            [
             0.1,
             "#c51b7d"
            ],
            [
             0.2,
             "#de77ae"
            ],
            [
             0.3,
             "#f1b6da"
            ],
            [
             0.4,
             "#fde0ef"
            ],
            [
             0.5,
             "#f7f7f7"
            ],
            [
             0.6,
             "#e6f5d0"
            ],
            [
             0.7,
             "#b8e186"
            ],
            [
             0.8,
             "#7fbc41"
            ],
            [
             0.9,
             "#4d9221"
            ],
            [
             1,
             "#276419"
            ]
           ],
           "sequential": [
            [
             0,
             "#0d0887"
            ],
            [
             0.1111111111111111,
             "#46039f"
            ],
            [
             0.2222222222222222,
             "#7201a8"
            ],
            [
             0.3333333333333333,
             "#9c179e"
            ],
            [
             0.4444444444444444,
             "#bd3786"
            ],
            [
             0.5555555555555556,
             "#d8576b"
            ],
            [
             0.6666666666666666,
             "#ed7953"
            ],
            [
             0.7777777777777778,
             "#fb9f3a"
            ],
            [
             0.8888888888888888,
             "#fdca26"
            ],
            [
             1,
             "#f0f921"
            ]
           ],
           "sequentialminus": [
            [
             0,
             "#0d0887"
            ],
            [
             0.1111111111111111,
             "#46039f"
            ],
            [
             0.2222222222222222,
             "#7201a8"
            ],
            [
             0.3333333333333333,
             "#9c179e"
            ],
            [
             0.4444444444444444,
             "#bd3786"
            ],
            [
             0.5555555555555556,
             "#d8576b"
            ],
            [
             0.6666666666666666,
             "#ed7953"
            ],
            [
             0.7777777777777778,
             "#fb9f3a"
            ],
            [
             0.8888888888888888,
             "#fdca26"
            ],
            [
             1,
             "#f0f921"
            ]
           ]
          },
          "colorway": [
           "#636efa",
           "#EF553B",
           "#00cc96",
           "#ab63fa",
           "#FFA15A",
           "#19d3f3",
           "#FF6692",
           "#B6E880",
           "#FF97FF",
           "#FECB52"
          ],
          "font": {
           "color": "#2a3f5f"
          },
          "geo": {
           "bgcolor": "white",
           "lakecolor": "white",
           "landcolor": "#E5ECF6",
           "showlakes": true,
           "showland": true,
           "subunitcolor": "white"
          },
          "hoverlabel": {
           "align": "left"
          },
          "hovermode": "closest",
          "mapbox": {
           "style": "light"
          },
          "paper_bgcolor": "white",
          "plot_bgcolor": "#E5ECF6",
          "polar": {
           "angularaxis": {
            "gridcolor": "white",
            "linecolor": "white",
            "ticks": ""
           },
           "bgcolor": "#E5ECF6",
           "radialaxis": {
            "gridcolor": "white",
            "linecolor": "white",
            "ticks": ""
           }
          },
          "scene": {
           "xaxis": {
            "backgroundcolor": "#E5ECF6",
            "gridcolor": "white",
            "gridwidth": 2,
            "linecolor": "white",
            "showbackground": true,
            "ticks": "",
            "zerolinecolor": "white"
           },
           "yaxis": {
            "backgroundcolor": "#E5ECF6",
            "gridcolor": "white",
            "gridwidth": 2,
            "linecolor": "white",
            "showbackground": true,
            "ticks": "",
            "zerolinecolor": "white"
           },
           "zaxis": {
            "backgroundcolor": "#E5ECF6",
            "gridcolor": "white",
            "gridwidth": 2,
            "linecolor": "white",
            "showbackground": true,
            "ticks": "",
            "zerolinecolor": "white"
           }
          },
          "shapedefaults": {
           "line": {
            "color": "#2a3f5f"
           }
          },
          "ternary": {
           "aaxis": {
            "gridcolor": "white",
            "linecolor": "white",
            "ticks": ""
           },
           "baxis": {
            "gridcolor": "white",
            "linecolor": "white",
            "ticks": ""
           },
           "bgcolor": "#E5ECF6",
           "caxis": {
            "gridcolor": "white",
            "linecolor": "white",
            "ticks": ""
           }
          },
          "title": {
           "x": 0.05
          },
          "xaxis": {
           "automargin": true,
           "gridcolor": "white",
           "linecolor": "white",
           "ticks": "",
           "title": {
            "standoff": 15
           },
           "zerolinecolor": "white",
           "zerolinewidth": 2
          },
          "yaxis": {
           "automargin": true,
           "gridcolor": "white",
           "linecolor": "white",
           "ticks": "",
           "title": {
            "standoff": 15
           },
           "zerolinecolor": "white",
           "zerolinewidth": 2
          }
         }
        },
        "title": {
         "text": "Aantal aanslagen over de wereld"
        }
       }
      }
     },
     "metadata": {},
     "output_type": "display_data"
    }
   ],
   "source": [
    "cases_count_df = cases_count(df_1, \"country_txt\")\n",
    "\n",
    "# create choropleth map\n",
    "fig = px.choropleth(cases_count_df, \n",
    "                    locations='country_txt',\n",
    "                    locationmode='country names',\n",
    "                    color='Aantal gevallen',\n",
    "                    hover_name='country_txt',\n",
    "                    projection='natural earth')\n",
    "\n",
    "fig.update_layout(title_text='Aantal aanslagen over de wereld')\n",
    "\n",
    "\n",
    "fig.show()"
   ]
  },
  {
   "cell_type": "markdown",
   "metadata": {},
   "source": [
    "In bovenstaand figuur is een wereldkaart afgebeeld met de daarbij het aantal aanslagen wat er in het desbetreffende land is gebeurd. Vanuit het figuur is het duidelijk te zien dat de landen met het hoogste aantal aanslagen zich bevinden in het Midden-Oosten en Azië, en niet in westerse landen. Dit staat haaks op de berichtgeving in de media, die de nadruk legt op aanslagen in het Westen. \n",
    "Wel zien wij dat de landen waar veel aanslagen gebeuren ook landen zijn waar oorlog is. Terreur is iets typisch van een oorlog. Een voorbeeld hiervan is Irak. Op de kaart is te zien dat Iraq het land is daar de meeste aanslagen plaats vinden. \n",
    "\n",
    "De oorlog in Irak is begonnen door voornamelijk de VS en die kreeg daarin steun van onder andere Nederland. De reden voor het starten van deze oorlog waren mogelijke banden met de terroristische groep Al-Qaida, die verantwoordelijk was voor de aanslag op de twin towers op 11 september 2001. Ook was er desinformatie vanuit de VS dat Irak massavernietigingswapens zou hebben. Propoganda door middel van de media heeft ervoor gezorgt dat deze oorlog escaleerde en er veel doden en gewonden vielen. Ook in Nederland heeft de media gedaan aan propaganda. Duidelijk is dus dat ook de media hier weer een grote rol speelt in het terrorisme."
   ]
  },
  {
   "cell_type": "code",
   "execution_count": 4,
   "metadata": {
    "tags": [
     "hide-input"
    ]
   },
   "outputs": [
    {
     "data": {
      "application/vnd.plotly.v1+json": {
       "config": {
        "plotlyServerURL": "https://plot.ly"
       },
       "data": [
        {
         "hole": 0.8,
         "labels": [
          "Non westren country",
          "Westren country"
         ],
         "marker": {
          "colors": [
           "red",
           "green"
          ],
          "line": {
           "color": "#000000",
           "width": 1
          }
         },
         "textinfo": "label+percent",
         "type": "pie",
         "values": [
          157009,
          19605
         ]
        },
        {
         "hole": 0.8,
         "labels": [
          "Non westren country",
          "Westren country"
         ],
         "marker": {
          "colors": [
           "red",
           "green"
          ],
          "line": {
           "color": "#000000",
           "width": 1
          }
         },
         "textinfo": "label+percent",
         "type": "pie",
         "values": [
          0.000024952993107256022,
          0.000020641790833382156
         ],
         "visible": false
        }
       ],
       "layout": {
        "showlegend": false,
        "template": {
         "data": {
          "bar": [
           {
            "error_x": {
             "color": "#2a3f5f"
            },
            "error_y": {
             "color": "#2a3f5f"
            },
            "marker": {
             "line": {
              "color": "#E5ECF6",
              "width": 0.5
             },
             "pattern": {
              "fillmode": "overlay",
              "size": 10,
              "solidity": 0.2
             }
            },
            "type": "bar"
           }
          ],
          "barpolar": [
           {
            "marker": {
             "line": {
              "color": "#E5ECF6",
              "width": 0.5
             },
             "pattern": {
              "fillmode": "overlay",
              "size": 10,
              "solidity": 0.2
             }
            },
            "type": "barpolar"
           }
          ],
          "carpet": [
           {
            "aaxis": {
             "endlinecolor": "#2a3f5f",
             "gridcolor": "white",
             "linecolor": "white",
             "minorgridcolor": "white",
             "startlinecolor": "#2a3f5f"
            },
            "baxis": {
             "endlinecolor": "#2a3f5f",
             "gridcolor": "white",
             "linecolor": "white",
             "minorgridcolor": "white",
             "startlinecolor": "#2a3f5f"
            },
            "type": "carpet"
           }
          ],
          "choropleth": [
           {
            "colorbar": {
             "outlinewidth": 0,
             "ticks": ""
            },
            "type": "choropleth"
           }
          ],
          "contour": [
           {
            "colorbar": {
             "outlinewidth": 0,
             "ticks": ""
            },
            "colorscale": [
             [
              0,
              "#0d0887"
             ],
             [
              0.1111111111111111,
              "#46039f"
             ],
             [
              0.2222222222222222,
              "#7201a8"
             ],
             [
              0.3333333333333333,
              "#9c179e"
             ],
             [
              0.4444444444444444,
              "#bd3786"
             ],
             [
              0.5555555555555556,
              "#d8576b"
             ],
             [
              0.6666666666666666,
              "#ed7953"
             ],
             [
              0.7777777777777778,
              "#fb9f3a"
             ],
             [
              0.8888888888888888,
              "#fdca26"
             ],
             [
              1,
              "#f0f921"
             ]
            ],
            "type": "contour"
           }
          ],
          "contourcarpet": [
           {
            "colorbar": {
             "outlinewidth": 0,
             "ticks": ""
            },
            "type": "contourcarpet"
           }
          ],
          "heatmap": [
           {
            "colorbar": {
             "outlinewidth": 0,
             "ticks": ""
            },
            "colorscale": [
             [
              0,
              "#0d0887"
             ],
             [
              0.1111111111111111,
              "#46039f"
             ],
             [
              0.2222222222222222,
              "#7201a8"
             ],
             [
              0.3333333333333333,
              "#9c179e"
             ],
             [
              0.4444444444444444,
              "#bd3786"
             ],
             [
              0.5555555555555556,
              "#d8576b"
             ],
             [
              0.6666666666666666,
              "#ed7953"
             ],
             [
              0.7777777777777778,
              "#fb9f3a"
             ],
             [
              0.8888888888888888,
              "#fdca26"
             ],
             [
              1,
              "#f0f921"
             ]
            ],
            "type": "heatmap"
           }
          ],
          "heatmapgl": [
           {
            "colorbar": {
             "outlinewidth": 0,
             "ticks": ""
            },
            "colorscale": [
             [
              0,
              "#0d0887"
             ],
             [
              0.1111111111111111,
              "#46039f"
             ],
             [
              0.2222222222222222,
              "#7201a8"
             ],
             [
              0.3333333333333333,
              "#9c179e"
             ],
             [
              0.4444444444444444,
              "#bd3786"
             ],
             [
              0.5555555555555556,
              "#d8576b"
             ],
             [
              0.6666666666666666,
              "#ed7953"
             ],
             [
              0.7777777777777778,
              "#fb9f3a"
             ],
             [
              0.8888888888888888,
              "#fdca26"
             ],
             [
              1,
              "#f0f921"
             ]
            ],
            "type": "heatmapgl"
           }
          ],
          "histogram": [
           {
            "marker": {
             "pattern": {
              "fillmode": "overlay",
              "size": 10,
              "solidity": 0.2
             }
            },
            "type": "histogram"
           }
          ],
          "histogram2d": [
           {
            "colorbar": {
             "outlinewidth": 0,
             "ticks": ""
            },
            "colorscale": [
             [
              0,
              "#0d0887"
             ],
             [
              0.1111111111111111,
              "#46039f"
             ],
             [
              0.2222222222222222,
              "#7201a8"
             ],
             [
              0.3333333333333333,
              "#9c179e"
             ],
             [
              0.4444444444444444,
              "#bd3786"
             ],
             [
              0.5555555555555556,
              "#d8576b"
             ],
             [
              0.6666666666666666,
              "#ed7953"
             ],
             [
              0.7777777777777778,
              "#fb9f3a"
             ],
             [
              0.8888888888888888,
              "#fdca26"
             ],
             [
              1,
              "#f0f921"
             ]
            ],
            "type": "histogram2d"
           }
          ],
          "histogram2dcontour": [
           {
            "colorbar": {
             "outlinewidth": 0,
             "ticks": ""
            },
            "colorscale": [
             [
              0,
              "#0d0887"
             ],
             [
              0.1111111111111111,
              "#46039f"
             ],
             [
              0.2222222222222222,
              "#7201a8"
             ],
             [
              0.3333333333333333,
              "#9c179e"
             ],
             [
              0.4444444444444444,
              "#bd3786"
             ],
             [
              0.5555555555555556,
              "#d8576b"
             ],
             [
              0.6666666666666666,
              "#ed7953"
             ],
             [
              0.7777777777777778,
              "#fb9f3a"
             ],
             [
              0.8888888888888888,
              "#fdca26"
             ],
             [
              1,
              "#f0f921"
             ]
            ],
            "type": "histogram2dcontour"
           }
          ],
          "mesh3d": [
           {
            "colorbar": {
             "outlinewidth": 0,
             "ticks": ""
            },
            "type": "mesh3d"
           }
          ],
          "parcoords": [
           {
            "line": {
             "colorbar": {
              "outlinewidth": 0,
              "ticks": ""
             }
            },
            "type": "parcoords"
           }
          ],
          "pie": [
           {
            "automargin": true,
            "type": "pie"
           }
          ],
          "scatter": [
           {
            "fillpattern": {
             "fillmode": "overlay",
             "size": 10,
             "solidity": 0.2
            },
            "type": "scatter"
           }
          ],
          "scatter3d": [
           {
            "line": {
             "colorbar": {
              "outlinewidth": 0,
              "ticks": ""
             }
            },
            "marker": {
             "colorbar": {
              "outlinewidth": 0,
              "ticks": ""
             }
            },
            "type": "scatter3d"
           }
          ],
          "scattercarpet": [
           {
            "marker": {
             "colorbar": {
              "outlinewidth": 0,
              "ticks": ""
             }
            },
            "type": "scattercarpet"
           }
          ],
          "scattergeo": [
           {
            "marker": {
             "colorbar": {
              "outlinewidth": 0,
              "ticks": ""
             }
            },
            "type": "scattergeo"
           }
          ],
          "scattergl": [
           {
            "marker": {
             "colorbar": {
              "outlinewidth": 0,
              "ticks": ""
             }
            },
            "type": "scattergl"
           }
          ],
          "scattermapbox": [
           {
            "marker": {
             "colorbar": {
              "outlinewidth": 0,
              "ticks": ""
             }
            },
            "type": "scattermapbox"
           }
          ],
          "scatterpolar": [
           {
            "marker": {
             "colorbar": {
              "outlinewidth": 0,
              "ticks": ""
             }
            },
            "type": "scatterpolar"
           }
          ],
          "scatterpolargl": [
           {
            "marker": {
             "colorbar": {
              "outlinewidth": 0,
              "ticks": ""
             }
            },
            "type": "scatterpolargl"
           }
          ],
          "scatterternary": [
           {
            "marker": {
             "colorbar": {
              "outlinewidth": 0,
              "ticks": ""
             }
            },
            "type": "scatterternary"
           }
          ],
          "surface": [
           {
            "colorbar": {
             "outlinewidth": 0,
             "ticks": ""
            },
            "colorscale": [
             [
              0,
              "#0d0887"
             ],
             [
              0.1111111111111111,
              "#46039f"
             ],
             [
              0.2222222222222222,
              "#7201a8"
             ],
             [
              0.3333333333333333,
              "#9c179e"
             ],
             [
              0.4444444444444444,
              "#bd3786"
             ],
             [
              0.5555555555555556,
              "#d8576b"
             ],
             [
              0.6666666666666666,
              "#ed7953"
             ],
             [
              0.7777777777777778,
              "#fb9f3a"
             ],
             [
              0.8888888888888888,
              "#fdca26"
             ],
             [
              1,
              "#f0f921"
             ]
            ],
            "type": "surface"
           }
          ],
          "table": [
           {
            "cells": {
             "fill": {
              "color": "#EBF0F8"
             },
             "line": {
              "color": "white"
             }
            },
            "header": {
             "fill": {
              "color": "#C8D4E3"
             },
             "line": {
              "color": "white"
             }
            },
            "type": "table"
           }
          ]
         },
         "layout": {
          "annotationdefaults": {
           "arrowcolor": "#2a3f5f",
           "arrowhead": 0,
           "arrowwidth": 1
          },
          "autotypenumbers": "strict",
          "coloraxis": {
           "colorbar": {
            "outlinewidth": 0,
            "ticks": ""
           }
          },
          "colorscale": {
           "diverging": [
            [
             0,
             "#8e0152"
            ],
            [
             0.1,
             "#c51b7d"
            ],
            [
             0.2,
             "#de77ae"
            ],
            [
             0.3,
             "#f1b6da"
            ],
            [
             0.4,
             "#fde0ef"
            ],
            [
             0.5,
             "#f7f7f7"
            ],
            [
             0.6,
             "#e6f5d0"
            ],
            [
             0.7,
             "#b8e186"
            ],
            [
             0.8,
             "#7fbc41"
            ],
            [
             0.9,
             "#4d9221"
            ],
            [
             1,
             "#276419"
            ]
           ],
           "sequential": [
            [
             0,
             "#0d0887"
            ],
            [
             0.1111111111111111,
             "#46039f"
            ],
            [
             0.2222222222222222,
             "#7201a8"
            ],
            [
             0.3333333333333333,
             "#9c179e"
            ],
            [
             0.4444444444444444,
             "#bd3786"
            ],
            [
             0.5555555555555556,
             "#d8576b"
            ],
            [
             0.6666666666666666,
             "#ed7953"
            ],
            [
             0.7777777777777778,
             "#fb9f3a"
            ],
            [
             0.8888888888888888,
             "#fdca26"
            ],
            [
             1,
             "#f0f921"
            ]
           ],
           "sequentialminus": [
            [
             0,
             "#0d0887"
            ],
            [
             0.1111111111111111,
             "#46039f"
            ],
            [
             0.2222222222222222,
             "#7201a8"
            ],
            [
             0.3333333333333333,
             "#9c179e"
            ],
            [
             0.4444444444444444,
             "#bd3786"
            ],
            [
             0.5555555555555556,
             "#d8576b"
            ],
            [
             0.6666666666666666,
             "#ed7953"
            ],
            [
             0.7777777777777778,
             "#fb9f3a"
            ],
            [
             0.8888888888888888,
             "#fdca26"
            ],
            [
             1,
             "#f0f921"
            ]
           ]
          },
          "colorway": [
           "#636efa",
           "#EF553B",
           "#00cc96",
           "#ab63fa",
           "#FFA15A",
           "#19d3f3",
           "#FF6692",
           "#B6E880",
           "#FF97FF",
           "#FECB52"
          ],
          "font": {
           "color": "#2a3f5f"
          },
          "geo": {
           "bgcolor": "white",
           "lakecolor": "white",
           "landcolor": "#E5ECF6",
           "showlakes": true,
           "showland": true,
           "subunitcolor": "white"
          },
          "hoverlabel": {
           "align": "left"
          },
          "hovermode": "closest",
          "mapbox": {
           "style": "light"
          },
          "paper_bgcolor": "white",
          "plot_bgcolor": "#E5ECF6",
          "polar": {
           "angularaxis": {
            "gridcolor": "white",
            "linecolor": "white",
            "ticks": ""
           },
           "bgcolor": "#E5ECF6",
           "radialaxis": {
            "gridcolor": "white",
            "linecolor": "white",
            "ticks": ""
           }
          },
          "scene": {
           "xaxis": {
            "backgroundcolor": "#E5ECF6",
            "gridcolor": "white",
            "gridwidth": 2,
            "linecolor": "white",
            "showbackground": true,
            "ticks": "",
            "zerolinecolor": "white"
           },
           "yaxis": {
            "backgroundcolor": "#E5ECF6",
            "gridcolor": "white",
            "gridwidth": 2,
            "linecolor": "white",
            "showbackground": true,
            "ticks": "",
            "zerolinecolor": "white"
           },
           "zaxis": {
            "backgroundcolor": "#E5ECF6",
            "gridcolor": "white",
            "gridwidth": 2,
            "linecolor": "white",
            "showbackground": true,
            "ticks": "",
            "zerolinecolor": "white"
           }
          },
          "shapedefaults": {
           "line": {
            "color": "#2a3f5f"
           }
          },
          "ternary": {
           "aaxis": {
            "gridcolor": "white",
            "linecolor": "white",
            "ticks": ""
           },
           "baxis": {
            "gridcolor": "white",
            "linecolor": "white",
            "ticks": ""
           },
           "bgcolor": "#E5ECF6",
           "caxis": {
            "gridcolor": "white",
            "linecolor": "white",
            "ticks": ""
           }
          },
          "title": {
           "x": 0.05
          },
          "xaxis": {
           "automargin": true,
           "gridcolor": "white",
           "linecolor": "white",
           "ticks": "",
           "title": {
            "standoff": 15
           },
           "zerolinecolor": "white",
           "zerolinewidth": 2
          },
          "yaxis": {
           "automargin": true,
           "gridcolor": "white",
           "linecolor": "white",
           "ticks": "",
           "title": {
            "standoff": 15
           },
           "zerolinecolor": "white",
           "zerolinewidth": 2
          }
         }
        },
        "title": {
         "text": "Aantal aanslagen westerse en niet westerse landen"
        },
        "updatemenus": [
         {
          "buttons": [
           {
            "args": [
             {
              "visibale": [
               true,
               false
              ]
             },
             {
              "title": "Aantal aanslagen in westerse en niet westers landen"
             }
            ],
            "label": "Origineel",
            "method": "update"
           },
           {
            "args": [
             {
              "visible": [
               false,
               true
              ]
             },
             {
              "title": "Aantal aanslagen in westerse en niet westerse landen, gelijkgesteld op basis van populatie"
             }
            ],
            "label": "Gelijkgesteld",
            "method": "update"
           }
          ],
          "direction": "left",
          "type": "buttons"
         }
        ]
       }
      }
     },
     "metadata": {},
     "output_type": "display_data"
    }
   ],
   "source": [
    "totalset = totalset.groupby(\"west_or_not\").sum()\n",
    "totalset['placement'] = ['Non westren country', 'Westren country']\n",
    "totalset['equated'] = totalset['Event'] / totalset['Population']\n",
    "\n",
    "labels = totalset['placement']\n",
    "values1 = totalset['Event']\n",
    "values2 = totalset['equated']\n",
    "\n",
    "fig = go.Figure()\n",
    "colors = ['red', 'green']\n",
    "fig.add_trace(\n",
    "    go.Pie(labels=labels, values=values1, hole=.8, textinfo='label+percent'))\n",
    "fig.add_trace(\n",
    "    go.Pie(labels=labels, values=values2, hole=.8, textinfo='label+percent', visible=False))\n",
    "\n",
    "fig = fig.update_layout(\n",
    "            updatemenus=[\n",
    "                dict(\n",
    "                type = 'buttons',\n",
    "                direction = 'left',\n",
    "                buttons = list([\n",
    "                    dict(\n",
    "                        label = \"Origineel\",\n",
    "                        method = \"update\",\n",
    "                        args = [{\"visibale\": [True, False]},\n",
    "                               {\"title\": \"Aantal aanslagen in westerse en niet westers landen\"}]\n",
    "                    ),\n",
    "                    dict(\n",
    "                        label = \"Gelijkgesteld\",\n",
    "                        method = \"update\",\n",
    "                        args = [{\"visible\": [False, True]},\n",
    "                               {\"title\": \"Aantal aanslagen in westerse en niet westerse landen, gelijkgesteld op basis van populatie\"}]\n",
    "                    )\n",
    "                ])\n",
    "                )\n",
    "            ])\n",
    "\n",
    "fig = fig.update_traces(marker=dict(colors=colors, line=dict(color='#000000', width=1)))\n",
    "fig = fig.update_layout(title_text='Aantal aanslagen westerse en niet westerse landen', showlegend=False)\n",
    "\n",
    "fig.show()"
   ]
  },
  {
   "cell_type": "markdown",
   "metadata": {},
   "source": [
    "De donut chart hierboven geeft het totale aantal aanslagen in de wereld weer en de percentages van de aanslagen in westerse en niet-westerse landen (origineel). Uit deze grafiek blijkt dat bijna 90% van de aanslagen plaatsvond in niet-westerse landen. Op basis hiervan lijkt de media-aandacht voor aanslagen in westerse landen een onlogische keuze, aangezien deze landen slechts iets meer dan 10% van het totale aantal aanslagen vertegenwoordigen. Deze donut chart suggereert dat de media opzettelijk kiest om aanslagen in het westen aan het publiek te tonen.\n",
    "\n",
    "Echter, wanneer we kijken naar de aangepaste donut chart (waarbij het aantal aanslagen gelijkgesteld is op basis van populatie), zien we dat de verhoudingen van aanslagen slechts 9,4% verschillen. Deze donut chart houdt rekening met het percentage aanslagen in verhouding tot de bevolking. Aangezien het aantal inwoners in niet-westerse landen aanzienlijk groter is dan in westerse landen, kan de keuze van de media om aanslagen in het westen te belichten als \"logisch\" worden beschouwd, omdat de verhouding tussen aanslagen en bevolking van beide regio's dicht bij elkaar ligt. Het is logisch dat de westerse media eerder aanslagen laat zien uit iets wat dichtbij is en dichtbij mensen staat dan aanslagen die verder weg zijn.\n",
    "\n",
    "\n",
    "\n",
    "Deze bevindingen werpen een interessant licht op de complexiteit van de media-aandacht voor aanslagen. Hoewel de oorspronkelijke donut chart suggereert dat de media selectief is in het belichten van aanslagen in westerse landen, laat de aangepaste versie zien dat de verhoudingen tussen aanslagen en populatie vergelijkbaar zijn. Het aantal doden en gewonden blijft echter een belangrijke factor bij het bepalen van de media-aandacht. Deze inzichten benadrukken de noodzaak van een kritische benadering en een diepgaand begrip van de verschillende factoren die de media-aandacht voor aanslagen beïnvloeden."
   ]
  },
  {
   "cell_type": "code",
   "execution_count": 5,
   "metadata": {
    "tags": [
     "hide-input"
    ]
   },
   "outputs": [
    {
     "data": {
      "application/vnd.plotly.v1+json": {
       "config": {
        "plotlyServerURL": "https://plot.ly"
       },
       "data": [
        {
         "name": "Aantal aanslagen per land",
         "type": "bar",
         "x": [
          "Andorra",
          "Australia",
          "Austria",
          "Belgium",
          "Canada",
          "Cyprus",
          "Denmark",
          "Fiji",
          "Finland",
          "France",
          "Greece",
          "Iceland",
          "Ireland",
          "Italy",
          "Luxembourg",
          "Malta",
          "Mexico",
          "Netherlands",
          "New Zealand",
          "Norway",
          "Papua New Guinea",
          "Portugal",
          "Solomon Islands",
          "Spain",
          "Sweden",
          "Switzerland",
          "United States",
          "Vanuatu",
          "West Germany (FRG)",
          "United Kingdom"
         ],
         "y": [
          1,
          114,
          115,
          154,
          96,
          132,
          41,
          17,
          20,
          2693,
          1275,
          4,
          307,
          1565,
          16,
          23,
          524,
          130,
          20,
          19,
          89,
          140,
          4,
          3249,
          132,
          111,
          2836,
          2,
          541,
          5235
         ]
        },
        {
         "name": "Aantal doden per land",
         "type": "bar",
         "x": [
          "Andorra",
          "Australia",
          "Austria",
          "Belgium",
          "Canada",
          "Cyprus",
          "Denmark",
          "Fiji",
          "Finland",
          "France",
          "Greece",
          "Iceland",
          "Ireland",
          "Italy",
          "Luxembourg",
          "Malta",
          "Mexico",
          "Netherlands",
          "New Zealand",
          "Norway",
          "Papua New Guinea",
          "Portugal",
          "Solomon Islands",
          "Spain",
          "Sweden",
          "Switzerland",
          "United States",
          "Vanuatu",
          "West Germany (FRG)",
          "United Kingdom"
         ],
         "y": [
          0,
          23,
          30,
          79,
          365,
          45,
          5,
          8,
          11,
          534,
          325,
          0,
          117,
          420,
          0,
          5,
          780,
          37,
          1,
          79,
          79,
          32,
          4,
          1288,
          22,
          74,
          3771,
          0,
          97,
          3410
         ]
        },
        {
         "name": "Aantal succesvolle aanslagen per land",
         "type": "bar",
         "x": [
          "Andorra",
          "Australia",
          "Austria",
          "Belgium",
          "Canada",
          "Cyprus",
          "Denmark",
          "Fiji",
          "Finland",
          "France",
          "Greece",
          "Iceland",
          "Ireland",
          "Italy",
          "Luxembourg",
          "Malta",
          "Mexico",
          "Netherlands",
          "New Zealand",
          "Norway",
          "Papua New Guinea",
          "Portugal",
          "Solomon Islands",
          "Spain",
          "Sweden",
          "Switzerland",
          "United States",
          "Vanuatu",
          "West Germany (FRG)",
          "United Kingdom"
         ],
         "y": [
          1,
          97,
          88,
          125,
          75,
          112,
          35,
          16,
          19,
          2481,
          1126,
          4,
          139,
          1392,
          14,
          22,
          479,
          107,
          11,
          16,
          77,
          129,
          4,
          2818,
          113,
          90,
          2340,
          2,
          465,
          4206
         ]
        }
       ],
       "layout": {
        "annotations": [
         {
          "showarrow": false,
          "text": "Westerse landen",
          "xref": "paper",
          "y": -0.45,
          "yref": "paper"
         }
        ],
        "autosize": true,
        "template": {
         "data": {
          "bar": [
           {
            "error_x": {
             "color": "#2a3f5f"
            },
            "error_y": {
             "color": "#2a3f5f"
            },
            "marker": {
             "line": {
              "color": "#E5ECF6",
              "width": 0.5
             },
             "pattern": {
              "fillmode": "overlay",
              "size": 10,
              "solidity": 0.2
             }
            },
            "type": "bar"
           }
          ],
          "barpolar": [
           {
            "marker": {
             "line": {
              "color": "#E5ECF6",
              "width": 0.5
             },
             "pattern": {
              "fillmode": "overlay",
              "size": 10,
              "solidity": 0.2
             }
            },
            "type": "barpolar"
           }
          ],
          "carpet": [
           {
            "aaxis": {
             "endlinecolor": "#2a3f5f",
             "gridcolor": "white",
             "linecolor": "white",
             "minorgridcolor": "white",
             "startlinecolor": "#2a3f5f"
            },
            "baxis": {
             "endlinecolor": "#2a3f5f",
             "gridcolor": "white",
             "linecolor": "white",
             "minorgridcolor": "white",
             "startlinecolor": "#2a3f5f"
            },
            "type": "carpet"
           }
          ],
          "choropleth": [
           {
            "colorbar": {
             "outlinewidth": 0,
             "ticks": ""
            },
            "type": "choropleth"
           }
          ],
          "contour": [
           {
            "colorbar": {
             "outlinewidth": 0,
             "ticks": ""
            },
            "colorscale": [
             [
              0,
              "#0d0887"
             ],
             [
              0.1111111111111111,
              "#46039f"
             ],
             [
              0.2222222222222222,
              "#7201a8"
             ],
             [
              0.3333333333333333,
              "#9c179e"
             ],
             [
              0.4444444444444444,
              "#bd3786"
             ],
             [
              0.5555555555555556,
              "#d8576b"
             ],
             [
              0.6666666666666666,
              "#ed7953"
             ],
             [
              0.7777777777777778,
              "#fb9f3a"
             ],
             [
              0.8888888888888888,
              "#fdca26"
             ],
             [
              1,
              "#f0f921"
             ]
            ],
            "type": "contour"
           }
          ],
          "contourcarpet": [
           {
            "colorbar": {
             "outlinewidth": 0,
             "ticks": ""
            },
            "type": "contourcarpet"
           }
          ],
          "heatmap": [
           {
            "colorbar": {
             "outlinewidth": 0,
             "ticks": ""
            },
            "colorscale": [
             [
              0,
              "#0d0887"
             ],
             [
              0.1111111111111111,
              "#46039f"
             ],
             [
              0.2222222222222222,
              "#7201a8"
             ],
             [
              0.3333333333333333,
              "#9c179e"
             ],
             [
              0.4444444444444444,
              "#bd3786"
             ],
             [
              0.5555555555555556,
              "#d8576b"
             ],
             [
              0.6666666666666666,
              "#ed7953"
             ],
             [
              0.7777777777777778,
              "#fb9f3a"
             ],
             [
              0.8888888888888888,
              "#fdca26"
             ],
             [
              1,
              "#f0f921"
             ]
            ],
            "type": "heatmap"
           }
          ],
          "heatmapgl": [
           {
            "colorbar": {
             "outlinewidth": 0,
             "ticks": ""
            },
            "colorscale": [
             [
              0,
              "#0d0887"
             ],
             [
              0.1111111111111111,
              "#46039f"
             ],
             [
              0.2222222222222222,
              "#7201a8"
             ],
             [
              0.3333333333333333,
              "#9c179e"
             ],
             [
              0.4444444444444444,
              "#bd3786"
             ],
             [
              0.5555555555555556,
              "#d8576b"
             ],
             [
              0.6666666666666666,
              "#ed7953"
             ],
             [
              0.7777777777777778,
              "#fb9f3a"
             ],
             [
              0.8888888888888888,
              "#fdca26"
             ],
             [
              1,
              "#f0f921"
             ]
            ],
            "type": "heatmapgl"
           }
          ],
          "histogram": [
           {
            "marker": {
             "pattern": {
              "fillmode": "overlay",
              "size": 10,
              "solidity": 0.2
             }
            },
            "type": "histogram"
           }
          ],
          "histogram2d": [
           {
            "colorbar": {
             "outlinewidth": 0,
             "ticks": ""
            },
            "colorscale": [
             [
              0,
              "#0d0887"
             ],
             [
              0.1111111111111111,
              "#46039f"
             ],
             [
              0.2222222222222222,
              "#7201a8"
             ],
             [
              0.3333333333333333,
              "#9c179e"
             ],
             [
              0.4444444444444444,
              "#bd3786"
             ],
             [
              0.5555555555555556,
              "#d8576b"
             ],
             [
              0.6666666666666666,
              "#ed7953"
             ],
             [
              0.7777777777777778,
              "#fb9f3a"
             ],
             [
              0.8888888888888888,
              "#fdca26"
             ],
             [
              1,
              "#f0f921"
             ]
            ],
            "type": "histogram2d"
           }
          ],
          "histogram2dcontour": [
           {
            "colorbar": {
             "outlinewidth": 0,
             "ticks": ""
            },
            "colorscale": [
             [
              0,
              "#0d0887"
             ],
             [
              0.1111111111111111,
              "#46039f"
             ],
             [
              0.2222222222222222,
              "#7201a8"
             ],
             [
              0.3333333333333333,
              "#9c179e"
             ],
             [
              0.4444444444444444,
              "#bd3786"
             ],
             [
              0.5555555555555556,
              "#d8576b"
             ],
             [
              0.6666666666666666,
              "#ed7953"
             ],
             [
              0.7777777777777778,
              "#fb9f3a"
             ],
             [
              0.8888888888888888,
              "#fdca26"
             ],
             [
              1,
              "#f0f921"
             ]
            ],
            "type": "histogram2dcontour"
           }
          ],
          "mesh3d": [
           {
            "colorbar": {
             "outlinewidth": 0,
             "ticks": ""
            },
            "type": "mesh3d"
           }
          ],
          "parcoords": [
           {
            "line": {
             "colorbar": {
              "outlinewidth": 0,
              "ticks": ""
             }
            },
            "type": "parcoords"
           }
          ],
          "pie": [
           {
            "automargin": true,
            "type": "pie"
           }
          ],
          "scatter": [
           {
            "fillpattern": {
             "fillmode": "overlay",
             "size": 10,
             "solidity": 0.2
            },
            "type": "scatter"
           }
          ],
          "scatter3d": [
           {
            "line": {
             "colorbar": {
              "outlinewidth": 0,
              "ticks": ""
             }
            },
            "marker": {
             "colorbar": {
              "outlinewidth": 0,
              "ticks": ""
             }
            },
            "type": "scatter3d"
           }
          ],
          "scattercarpet": [
           {
            "marker": {
             "colorbar": {
              "outlinewidth": 0,
              "ticks": ""
             }
            },
            "type": "scattercarpet"
           }
          ],
          "scattergeo": [
           {
            "marker": {
             "colorbar": {
              "outlinewidth": 0,
              "ticks": ""
             }
            },
            "type": "scattergeo"
           }
          ],
          "scattergl": [
           {
            "marker": {
             "colorbar": {
              "outlinewidth": 0,
              "ticks": ""
             }
            },
            "type": "scattergl"
           }
          ],
          "scattermapbox": [
           {
            "marker": {
             "colorbar": {
              "outlinewidth": 0,
              "ticks": ""
             }
            },
            "type": "scattermapbox"
           }
          ],
          "scatterpolar": [
           {
            "marker": {
             "colorbar": {
              "outlinewidth": 0,
              "ticks": ""
             }
            },
            "type": "scatterpolar"
           }
          ],
          "scatterpolargl": [
           {
            "marker": {
             "colorbar": {
              "outlinewidth": 0,
              "ticks": ""
             }
            },
            "type": "scatterpolargl"
           }
          ],
          "scatterternary": [
           {
            "marker": {
             "colorbar": {
              "outlinewidth": 0,
              "ticks": ""
             }
            },
            "type": "scatterternary"
           }
          ],
          "surface": [
           {
            "colorbar": {
             "outlinewidth": 0,
             "ticks": ""
            },
            "colorscale": [
             [
              0,
              "#0d0887"
             ],
             [
              0.1111111111111111,
              "#46039f"
             ],
             [
              0.2222222222222222,
              "#7201a8"
             ],
             [
              0.3333333333333333,
              "#9c179e"
             ],
             [
              0.4444444444444444,
              "#bd3786"
             ],
             [
              0.5555555555555556,
              "#d8576b"
             ],
             [
              0.6666666666666666,
              "#ed7953"
             ],
             [
              0.7777777777777778,
              "#fb9f3a"
             ],
             [
              0.8888888888888888,
              "#fdca26"
             ],
             [
              1,
              "#f0f921"
             ]
            ],
            "type": "surface"
           }
          ],
          "table": [
           {
            "cells": {
             "fill": {
              "color": "#EBF0F8"
             },
             "line": {
              "color": "white"
             }
            },
            "header": {
             "fill": {
              "color": "#C8D4E3"
             },
             "line": {
              "color": "white"
             }
            },
            "type": "table"
           }
          ]
         },
         "layout": {
          "annotationdefaults": {
           "arrowcolor": "#2a3f5f",
           "arrowhead": 0,
           "arrowwidth": 1
          },
          "autotypenumbers": "strict",
          "coloraxis": {
           "colorbar": {
            "outlinewidth": 0,
            "ticks": ""
           }
          },
          "colorscale": {
           "diverging": [
            [
             0,
             "#8e0152"
            ],
            [
             0.1,
             "#c51b7d"
            ],
            [
             0.2,
             "#de77ae"
            ],
            [
             0.3,
             "#f1b6da"
            ],
            [
             0.4,
             "#fde0ef"
            ],
            [
             0.5,
             "#f7f7f7"
            ],
            [
             0.6,
             "#e6f5d0"
            ],
            [
             0.7,
             "#b8e186"
            ],
            [
             0.8,
             "#7fbc41"
            ],
            [
             0.9,
             "#4d9221"
            ],
            [
             1,
             "#276419"
            ]
           ],
           "sequential": [
            [
             0,
             "#0d0887"
            ],
            [
             0.1111111111111111,
             "#46039f"
            ],
            [
             0.2222222222222222,
             "#7201a8"
            ],
            [
             0.3333333333333333,
             "#9c179e"
            ],
            [
             0.4444444444444444,
             "#bd3786"
            ],
            [
             0.5555555555555556,
             "#d8576b"
            ],
            [
             0.6666666666666666,
             "#ed7953"
            ],
            [
             0.7777777777777778,
             "#fb9f3a"
            ],
            [
             0.8888888888888888,
             "#fdca26"
            ],
            [
             1,
             "#f0f921"
            ]
           ],
           "sequentialminus": [
            [
             0,
             "#0d0887"
            ],
            [
             0.1111111111111111,
             "#46039f"
            ],
            [
             0.2222222222222222,
             "#7201a8"
            ],
            [
             0.3333333333333333,
             "#9c179e"
            ],
            [
             0.4444444444444444,
             "#bd3786"
            ],
            [
             0.5555555555555556,
             "#d8576b"
            ],
            [
             0.6666666666666666,
             "#ed7953"
            ],
            [
             0.7777777777777778,
             "#fb9f3a"
            ],
            [
             0.8888888888888888,
             "#fdca26"
            ],
            [
             1,
             "#f0f921"
            ]
           ]
          },
          "colorway": [
           "#636efa",
           "#EF553B",
           "#00cc96",
           "#ab63fa",
           "#FFA15A",
           "#19d3f3",
           "#FF6692",
           "#B6E880",
           "#FF97FF",
           "#FECB52"
          ],
          "font": {
           "color": "#2a3f5f"
          },
          "geo": {
           "bgcolor": "white",
           "lakecolor": "white",
           "landcolor": "#E5ECF6",
           "showlakes": true,
           "showland": true,
           "subunitcolor": "white"
          },
          "hoverlabel": {
           "align": "left"
          },
          "hovermode": "closest",
          "mapbox": {
           "style": "light"
          },
          "paper_bgcolor": "white",
          "plot_bgcolor": "#E5ECF6",
          "polar": {
           "angularaxis": {
            "gridcolor": "white",
            "linecolor": "white",
            "ticks": ""
           },
           "bgcolor": "#E5ECF6",
           "radialaxis": {
            "gridcolor": "white",
            "linecolor": "white",
            "ticks": ""
           }
          },
          "scene": {
           "xaxis": {
            "backgroundcolor": "#E5ECF6",
            "gridcolor": "white",
            "gridwidth": 2,
            "linecolor": "white",
            "showbackground": true,
            "ticks": "",
            "zerolinecolor": "white"
           },
           "yaxis": {
            "backgroundcolor": "#E5ECF6",
            "gridcolor": "white",
            "gridwidth": 2,
            "linecolor": "white",
            "showbackground": true,
            "ticks": "",
            "zerolinecolor": "white"
           },
           "zaxis": {
            "backgroundcolor": "#E5ECF6",
            "gridcolor": "white",
            "gridwidth": 2,
            "linecolor": "white",
            "showbackground": true,
            "ticks": "",
            "zerolinecolor": "white"
           }
          },
          "shapedefaults": {
           "line": {
            "color": "#2a3f5f"
           }
          },
          "ternary": {
           "aaxis": {
            "gridcolor": "white",
            "linecolor": "white",
            "ticks": ""
           },
           "baxis": {
            "gridcolor": "white",
            "linecolor": "white",
            "ticks": ""
           },
           "bgcolor": "#E5ECF6",
           "caxis": {
            "gridcolor": "white",
            "linecolor": "white",
            "ticks": ""
           }
          },
          "title": {
           "x": 0.05
          },
          "xaxis": {
           "automargin": true,
           "gridcolor": "white",
           "linecolor": "white",
           "ticks": "",
           "title": {
            "standoff": 15
           },
           "zerolinecolor": "white",
           "zerolinewidth": 2
          },
          "yaxis": {
           "automargin": true,
           "gridcolor": "white",
           "linecolor": "white",
           "ticks": "",
           "title": {
            "standoff": 15
           },
           "zerolinecolor": "white",
           "zerolinewidth": 2
          }
         }
        },
        "title": {
         "text": "Aantal (succesvolle) aanslagen en gevallen doden in westerse landen"
        }
       }
      }
     },
     "metadata": {},
     "output_type": "display_data"
    }
   ],
   "source": [
    "fig = go.Figure()\n",
    "fig.add_trace(go.Bar(name='Aantal aanslagen per land', x= west['country_txt'], y=west['Event']))\n",
    "fig.add_trace(go.Bar(name='Aantal doden per land', x= west['country_txt'], y=west['nkill']))\n",
    "fig.add_trace(go.Bar(name='Aantal succesvolle aanslagen per land', x= west['country_txt'], y=west['success']))\n",
    "\n",
    "fig = fig.update_layout(\n",
    "    title=\"Aantal (succesvolle) aanslagen en gevallen doden in westerse landen\",\n",
    "    autosize=True,\n",
    "    annotations=[dict(xref='paper',\n",
    "                    yref='paper',\n",
    "                    y= -0.45,\n",
    "                    showarrow=False,\n",
    "                    text='Westerse landen')])\n",
    "\n",
    "fig.show()"
   ]
  },
  {
   "cell_type": "markdown",
   "metadata": {},
   "source": [
    "In bovenstaand figuur worden de westerse landen weergegeven waar de meeste aanslagen hebben plaatsgevonden, samen met het aantal aanslagen per land, het totale aantal doden en het aantal succesvolle aanslagen. Opvallend is dat in de meeste weergegeven landen het aantal aanslagen en het aantal succesvolle aanslagen dicht bij elkaar liggen. Echter, in vier gevallen (VS, Noorwegen, Mexico en Canada) is het aantal doden hoger dan het aantal succesvolle aanslagen. Dit kan mogelijk verklaren waarom de media deze specifieke succesvolle aanslagen meer belicht.\n",
    "\n",
    "Deze discrepantie tussen het aantal doden en het aantal succesvolle aanslagen in bepaalde landen is een belangrijk aspect om te onderzoeken. Het roept vragen op over de mogelijke factoren die van invloed zijn op de media-aandacht voor aanslagen. Er kunnen verschillende redenen zijn waarom de media zich meer richt op succesvolle aanslagen, zoals de ernstige gevolgen voor het menselijk leven en de maatschappij, de impact op internationale betrekkingen of de perceptie van bedreiging binnen de samenleving."
   ]
  },
  {
   "cell_type": "code",
   "execution_count": 6,
   "metadata": {
    "tags": [
     "hide-input"
    ]
   },
   "outputs": [
    {
     "data": {
      "application/vnd.plotly.v1+json": {
       "config": {
        "plotlyServerURL": "https://plot.ly"
       },
       "data": [
        {
         "mode": "lines",
         "name": "Aantal doodde",
         "type": "scatter",
         "x": [
          "Andorra",
          "Australia",
          "Austria",
          "Belgium",
          "Canada",
          "Cyprus",
          "Denmark",
          "Fiji",
          "Finland",
          "France",
          "Greece",
          "Iceland",
          "Ireland",
          "Italy",
          "Luxembourg",
          "Malta",
          "Mexico",
          "Netherlands",
          "New Zealand",
          "Norway",
          "Papua New Guinea",
          "Portugal",
          "Solomon Islands",
          "Spain",
          "Sweden",
          "Switzerland",
          "United States",
          "Vanuatu",
          "West Germany (FRG)",
          "United Kingdom"
         ],
         "y": [
          0,
          23,
          30,
          79,
          365,
          45,
          5,
          8,
          11,
          534,
          325,
          0,
          117,
          420,
          0,
          5,
          780,
          37,
          1,
          79,
          79,
          32,
          4,
          1288,
          22,
          74,
          3771,
          0,
          97,
          3410
         ]
        },
        {
         "mode": "lines",
         "name": "Aantal gewonden",
         "type": "scatter",
         "x": [
          "Andorra",
          "Australia",
          "Austria",
          "Belgium",
          "Canada",
          "Cyprus",
          "Denmark",
          "Fiji",
          "Finland",
          "France",
          "Greece",
          "Iceland",
          "Ireland",
          "Italy",
          "Luxembourg",
          "Malta",
          "Mexico",
          "Netherlands",
          "New Zealand",
          "Norway",
          "Papua New Guinea",
          "Portugal",
          "Solomon Islands",
          "Spain",
          "Sweden",
          "Switzerland",
          "United States",
          "Vanuatu",
          "West Germany (FRG)",
          "United Kingdom"
         ],
         "y": [
          0,
          113,
          126,
          516,
          146,
          41,
          29,
          18,
          27,
          2516,
          733,
          0,
          31,
          1291,
          6,
          12,
          683,
          58,
          2,
          88,
          91,
          95,
          0,
          4935,
          80,
          94,
          20702,
          0,
          862,
          6106
         ]
        },
        {
         "mode": "lines",
         "name": "Aantal doodde",
         "type": "scatter",
         "visible": false,
         "x": [
          "Afghanistan",
          "Albania",
          "Algeria",
          "Angola",
          "Antigua and Barbuda",
          "Argentina",
          "Armenia",
          "Azerbaijan",
          "Bahamas",
          "Bahrain",
          "Bangladesh",
          "Barbados",
          "Belize",
          "Benin",
          "Bhutan",
          "Bolivia",
          "Botswana",
          "Brazil",
          "Brunei",
          "Bulgaria",
          "Burkina Faso",
          "Burundi",
          "Belarus",
          "Cambodia",
          "Cameroon",
          "Central African Republic",
          "Chad",
          "Chile",
          "China",
          "Colombia",
          "Comoros",
          "Costa Rica",
          "Croatia",
          "Cuba",
          "Czech Republic",
          "Djibouti",
          "Dominica",
          "Dominican Republic",
          "Ecuador",
          "Egypt",
          "El Salvador",
          "Equatorial Guinea",
          "Eritrea",
          "Estonia",
          "Ethiopia",
          "Gabon",
          "Gambia",
          "Georgia",
          "Ghana",
          "Grenada",
          "Guatemala",
          "Guinea",
          "Guinea-Bissau",
          "Guyana",
          "Haiti",
          "Honduras",
          "Hungary",
          "India",
          "Indonesia",
          "Iran",
          "Iraq",
          "Israel",
          "Jamaica",
          "Japan",
          "Jordan",
          "Kazakhstan",
          "Kenya",
          "Kuwait",
          "Kyrgyzstan",
          "Laos",
          "Latvia",
          "Lebanon",
          "Lesotho",
          "Liberia",
          "Libya",
          "Lithuania",
          "Madagascar",
          "Malawi",
          "Malaysia",
          "Maldives",
          "Mali",
          "Mauritania",
          "Mauritius",
          "Moldova",
          "Morocco",
          "Mozambique",
          "Myanmar",
          "Namibia",
          "Nepal",
          "Nicaragua",
          "Niger",
          "Nigeria",
          "North Korea",
          "Pakistan",
          "Panama",
          "Paraguay",
          "Peru",
          "Philippines",
          "Poland",
          "Qatar",
          "Romania",
          "Russia",
          "Rwanda",
          "Saudi Arabia",
          "Senegal",
          "Seychelles",
          "Sierra Leone",
          "Singapore",
          "Slovenia",
          "Somalia",
          "South Africa",
          "South Korea",
          "Sri Lanka",
          "Sudan",
          "Suriname",
          "Swaziland",
          "Syria",
          "Tajikistan",
          "Tanzania",
          "Togo",
          "Thailand",
          "Trinidad and Tobago",
          "Tunisia",
          "Turkey",
          "Turkmenistan",
          "Uganda",
          "Ukraine",
          "United Arab Emirates",
          "Uruguay",
          "Uzbekistan",
          "Venezuela",
          "Yemen",
          "Zambia",
          "Zimbabwe",
          "Serbia",
          "Montenegro",
          "South Sudan"
         ],
         "y": [
          39384,
          42,
          11066,
          3043,
          0,
          490,
          37,
          258,
          1,
          44,
          1244,
          76,
          3,
          0,
          9,
          42,
          11,
          203,
          0,
          28,
          134,
          4205,
          14,
          543,
          2347,
          1990,
          1119,
          228,
          1008,
          14698,
          1,
          17,
          248,
          8,
          6,
          274,
          3,
          34,
          54,
          3869,
          12053,
          2,
          46,
          3,
          1765,
          6,
          13,
          278,
          19,
          9,
          5167,
          213,
          17,
          41,
          336,
          307,
          6,
          19341,
          1238,
          1673,
          78589,
          1703,
          42,
          66,
          133,
          39,
          1948,
          63,
          10,
          27,
          2,
          4061,
          46,
          177,
          2598,
          1,
          31,
          33,
          152,
          20,
          1432,
          43,
          0,
          13,
          292,
          2711,
          1280,
          220,
          1969,
          10598,
          1474,
          22682,
          3,
          23822,
          38,
          59,
          12771,
          9559,
          9,
          7,
          4,
          4308,
          3236,
          672,
          325,
          0,
          840,
          5,
          1,
          10273,
          2674,
          10,
          15530,
          3883,
          29,
          6,
          15229,
          307,
          73,
          76,
          2742,
          6,
          351,
          6888,
          3,
          3065,
          2261,
          123,
          6,
          68,
          227,
          8776,
          70,
          154,
          3,
          1,
          2634
         ]
        },
        {
         "mode": "lines",
         "name": "Aantal gewonden",
         "type": "scatter",
         "visible": false,
         "x": [
          "Afghanistan",
          "Albania",
          "Algeria",
          "Angola",
          "Antigua and Barbuda",
          "Argentina",
          "Armenia",
          "Azerbaijan",
          "Bahamas",
          "Bahrain",
          "Bangladesh",
          "Barbados",
          "Belize",
          "Benin",
          "Bhutan",
          "Bolivia",
          "Botswana",
          "Brazil",
          "Brunei",
          "Bulgaria",
          "Burkina Faso",
          "Burundi",
          "Belarus",
          "Cambodia",
          "Cameroon",
          "Central African Republic",
          "Chad",
          "Chile",
          "China",
          "Colombia",
          "Comoros",
          "Costa Rica",
          "Croatia",
          "Cuba",
          "Czech Republic",
          "Djibouti",
          "Dominica",
          "Dominican Republic",
          "Ecuador",
          "Egypt",
          "El Salvador",
          "Equatorial Guinea",
          "Eritrea",
          "Estonia",
          "Ethiopia",
          "Gabon",
          "Gambia",
          "Georgia",
          "Ghana",
          "Grenada",
          "Guatemala",
          "Guinea",
          "Guinea-Bissau",
          "Guyana",
          "Haiti",
          "Honduras",
          "Hungary",
          "India",
          "Indonesia",
          "Iran",
          "Iraq",
          "Israel",
          "Jamaica",
          "Japan",
          "Jordan",
          "Kazakhstan",
          "Kenya",
          "Kuwait",
          "Kyrgyzstan",
          "Laos",
          "Latvia",
          "Lebanon",
          "Lesotho",
          "Liberia",
          "Libya",
          "Lithuania",
          "Madagascar",
          "Malawi",
          "Malaysia",
          "Maldives",
          "Mali",
          "Mauritania",
          "Mauritius",
          "Moldova",
          "Morocco",
          "Mozambique",
          "Myanmar",
          "Namibia",
          "Nepal",
          "Nicaragua",
          "Niger",
          "Nigeria",
          "North Korea",
          "Pakistan",
          "Panama",
          "Paraguay",
          "Peru",
          "Philippines",
          "Poland",
          "Qatar",
          "Romania",
          "Russia",
          "Rwanda",
          "Saudi Arabia",
          "Senegal",
          "Seychelles",
          "Sierra Leone",
          "Singapore",
          "Slovenia",
          "Somalia",
          "South Africa",
          "South Korea",
          "Sri Lanka",
          "Sudan",
          "Suriname",
          "Swaziland",
          "Syria",
          "Tajikistan",
          "Tanzania",
          "Togo",
          "Thailand",
          "Trinidad and Tobago",
          "Tunisia",
          "Turkey",
          "Turkmenistan",
          "Uganda",
          "Ukraine",
          "United Arab Emirates",
          "Uruguay",
          "Uzbekistan",
          "Venezuela",
          "Yemen",
          "Zambia",
          "Zimbabwe",
          "Serbia",
          "Montenegro",
          "South Sudan"
         ],
         "y": [
          44277,
          126,
          9150,
          2455,
          0,
          755,
          71,
          187,
          0,
          189,
          8225,
          3,
          0,
          8,
          5,
          166,
          11,
          160,
          1,
          36,
          219,
          2454,
          212,
          786,
          1063,
          942,
          1681,
          755,
          1842,
          10328,
          2,
          38,
          73,
          10,
          29,
          162,
          10,
          124,
          79,
          4822,
          5062,
          3,
          62,
          11,
          1214,
          3,
          2,
          392,
          13,
          21,
          1231,
          57,
          27,
          24,
          300,
          240,
          17,
          28980,
          2445,
          4029,
          134690,
          7946,
          36,
          6998,
          260,
          21,
          6263,
          300,
          26,
          73,
          36,
          10904,
          34,
          36,
          3310,
          2,
          185,
          0,
          101,
          122,
          1356,
          28,
          1,
          88,
          200,
          1518,
          1631,
          406,
          2151,
          1731,
          472,
          10239,
          4,
          42038,
          83,
          69,
          4078,
          13367,
          31,
          13,
          9,
          7441,
          922,
          1666,
          323,
          0,
          122,
          3,
          2,
          8875,
          4545,
          134,
          15561,
          2169,
          24,
          3,
          14109,
          1109,
          234,
          34,
          7818,
          35,
          433,
          9899,
          3,
          1145,
          2841,
          27,
          6,
          200,
          247,
          9328,
          62,
          222,
          9,
          0,
          1323
         ]
        }
       ],
       "layout": {
        "template": {
         "data": {
          "bar": [
           {
            "error_x": {
             "color": "#2a3f5f"
            },
            "error_y": {
             "color": "#2a3f5f"
            },
            "marker": {
             "line": {
              "color": "#E5ECF6",
              "width": 0.5
             },
             "pattern": {
              "fillmode": "overlay",
              "size": 10,
              "solidity": 0.2
             }
            },
            "type": "bar"
           }
          ],
          "barpolar": [
           {
            "marker": {
             "line": {
              "color": "#E5ECF6",
              "width": 0.5
             },
             "pattern": {
              "fillmode": "overlay",
              "size": 10,
              "solidity": 0.2
             }
            },
            "type": "barpolar"
           }
          ],
          "carpet": [
           {
            "aaxis": {
             "endlinecolor": "#2a3f5f",
             "gridcolor": "white",
             "linecolor": "white",
             "minorgridcolor": "white",
             "startlinecolor": "#2a3f5f"
            },
            "baxis": {
             "endlinecolor": "#2a3f5f",
             "gridcolor": "white",
             "linecolor": "white",
             "minorgridcolor": "white",
             "startlinecolor": "#2a3f5f"
            },
            "type": "carpet"
           }
          ],
          "choropleth": [
           {
            "colorbar": {
             "outlinewidth": 0,
             "ticks": ""
            },
            "type": "choropleth"
           }
          ],
          "contour": [
           {
            "colorbar": {
             "outlinewidth": 0,
             "ticks": ""
            },
            "colorscale": [
             [
              0,
              "#0d0887"
             ],
             [
              0.1111111111111111,
              "#46039f"
             ],
             [
              0.2222222222222222,
              "#7201a8"
             ],
             [
              0.3333333333333333,
              "#9c179e"
             ],
             [
              0.4444444444444444,
              "#bd3786"
             ],
             [
              0.5555555555555556,
              "#d8576b"
             ],
             [
              0.6666666666666666,
              "#ed7953"
             ],
             [
              0.7777777777777778,
              "#fb9f3a"
             ],
             [
              0.8888888888888888,
              "#fdca26"
             ],
             [
              1,
              "#f0f921"
             ]
            ],
            "type": "contour"
           }
          ],
          "contourcarpet": [
           {
            "colorbar": {
             "outlinewidth": 0,
             "ticks": ""
            },
            "type": "contourcarpet"
           }
          ],
          "heatmap": [
           {
            "colorbar": {
             "outlinewidth": 0,
             "ticks": ""
            },
            "colorscale": [
             [
              0,
              "#0d0887"
             ],
             [
              0.1111111111111111,
              "#46039f"
             ],
             [
              0.2222222222222222,
              "#7201a8"
             ],
             [
              0.3333333333333333,
              "#9c179e"
             ],
             [
              0.4444444444444444,
              "#bd3786"
             ],
             [
              0.5555555555555556,
              "#d8576b"
             ],
             [
              0.6666666666666666,
              "#ed7953"
             ],
             [
              0.7777777777777778,
              "#fb9f3a"
             ],
             [
              0.8888888888888888,
              "#fdca26"
             ],
             [
              1,
              "#f0f921"
             ]
            ],
            "type": "heatmap"
           }
          ],
          "heatmapgl": [
           {
            "colorbar": {
             "outlinewidth": 0,
             "ticks": ""
            },
            "colorscale": [
             [
              0,
              "#0d0887"
             ],
             [
              0.1111111111111111,
              "#46039f"
             ],
             [
              0.2222222222222222,
              "#7201a8"
             ],
             [
              0.3333333333333333,
              "#9c179e"
             ],
             [
              0.4444444444444444,
              "#bd3786"
             ],
             [
              0.5555555555555556,
              "#d8576b"
             ],
             [
              0.6666666666666666,
              "#ed7953"
             ],
             [
              0.7777777777777778,
              "#fb9f3a"
             ],
             [
              0.8888888888888888,
              "#fdca26"
             ],
             [
              1,
              "#f0f921"
             ]
            ],
            "type": "heatmapgl"
           }
          ],
          "histogram": [
           {
            "marker": {
             "pattern": {
              "fillmode": "overlay",
              "size": 10,
              "solidity": 0.2
             }
            },
            "type": "histogram"
           }
          ],
          "histogram2d": [
           {
            "colorbar": {
             "outlinewidth": 0,
             "ticks": ""
            },
            "colorscale": [
             [
              0,
              "#0d0887"
             ],
             [
              0.1111111111111111,
              "#46039f"
             ],
             [
              0.2222222222222222,
              "#7201a8"
             ],
             [
              0.3333333333333333,
              "#9c179e"
             ],
             [
              0.4444444444444444,
              "#bd3786"
             ],
             [
              0.5555555555555556,
              "#d8576b"
             ],
             [
              0.6666666666666666,
              "#ed7953"
             ],
             [
              0.7777777777777778,
              "#fb9f3a"
             ],
             [
              0.8888888888888888,
              "#fdca26"
             ],
             [
              1,
              "#f0f921"
             ]
            ],
            "type": "histogram2d"
           }
          ],
          "histogram2dcontour": [
           {
            "colorbar": {
             "outlinewidth": 0,
             "ticks": ""
            },
            "colorscale": [
             [
              0,
              "#0d0887"
             ],
             [
              0.1111111111111111,
              "#46039f"
             ],
             [
              0.2222222222222222,
              "#7201a8"
             ],
             [
              0.3333333333333333,
              "#9c179e"
             ],
             [
              0.4444444444444444,
              "#bd3786"
             ],
             [
              0.5555555555555556,
              "#d8576b"
             ],
             [
              0.6666666666666666,
              "#ed7953"
             ],
             [
              0.7777777777777778,
              "#fb9f3a"
             ],
             [
              0.8888888888888888,
              "#fdca26"
             ],
             [
              1,
              "#f0f921"
             ]
            ],
            "type": "histogram2dcontour"
           }
          ],
          "mesh3d": [
           {
            "colorbar": {
             "outlinewidth": 0,
             "ticks": ""
            },
            "type": "mesh3d"
           }
          ],
          "parcoords": [
           {
            "line": {
             "colorbar": {
              "outlinewidth": 0,
              "ticks": ""
             }
            },
            "type": "parcoords"
           }
          ],
          "pie": [
           {
            "automargin": true,
            "type": "pie"
           }
          ],
          "scatter": [
           {
            "fillpattern": {
             "fillmode": "overlay",
             "size": 10,
             "solidity": 0.2
            },
            "type": "scatter"
           }
          ],
          "scatter3d": [
           {
            "line": {
             "colorbar": {
              "outlinewidth": 0,
              "ticks": ""
             }
            },
            "marker": {
             "colorbar": {
              "outlinewidth": 0,
              "ticks": ""
             }
            },
            "type": "scatter3d"
           }
          ],
          "scattercarpet": [
           {
            "marker": {
             "colorbar": {
              "outlinewidth": 0,
              "ticks": ""
             }
            },
            "type": "scattercarpet"
           }
          ],
          "scattergeo": [
           {
            "marker": {
             "colorbar": {
              "outlinewidth": 0,
              "ticks": ""
             }
            },
            "type": "scattergeo"
           }
          ],
          "scattergl": [
           {
            "marker": {
             "colorbar": {
              "outlinewidth": 0,
              "ticks": ""
             }
            },
            "type": "scattergl"
           }
          ],
          "scattermapbox": [
           {
            "marker": {
             "colorbar": {
              "outlinewidth": 0,
              "ticks": ""
             }
            },
            "type": "scattermapbox"
           }
          ],
          "scatterpolar": [
           {
            "marker": {
             "colorbar": {
              "outlinewidth": 0,
              "ticks": ""
             }
            },
            "type": "scatterpolar"
           }
          ],
          "scatterpolargl": [
           {
            "marker": {
             "colorbar": {
              "outlinewidth": 0,
              "ticks": ""
             }
            },
            "type": "scatterpolargl"
           }
          ],
          "scatterternary": [
           {
            "marker": {
             "colorbar": {
              "outlinewidth": 0,
              "ticks": ""
             }
            },
            "type": "scatterternary"
           }
          ],
          "surface": [
           {
            "colorbar": {
             "outlinewidth": 0,
             "ticks": ""
            },
            "colorscale": [
             [
              0,
              "#0d0887"
             ],
             [
              0.1111111111111111,
              "#46039f"
             ],
             [
              0.2222222222222222,
              "#7201a8"
             ],
             [
              0.3333333333333333,
              "#9c179e"
             ],
             [
              0.4444444444444444,
              "#bd3786"
             ],
             [
              0.5555555555555556,
              "#d8576b"
             ],
             [
              0.6666666666666666,
              "#ed7953"
             ],
             [
              0.7777777777777778,
              "#fb9f3a"
             ],
             [
              0.8888888888888888,
              "#fdca26"
             ],
             [
              1,
              "#f0f921"
             ]
            ],
            "type": "surface"
           }
          ],
          "table": [
           {
            "cells": {
             "fill": {
              "color": "#EBF0F8"
             },
             "line": {
              "color": "white"
             }
            },
            "header": {
             "fill": {
              "color": "#C8D4E3"
             },
             "line": {
              "color": "white"
             }
            },
            "type": "table"
           }
          ]
         },
         "layout": {
          "annotationdefaults": {
           "arrowcolor": "#2a3f5f",
           "arrowhead": 0,
           "arrowwidth": 1
          },
          "autotypenumbers": "strict",
          "coloraxis": {
           "colorbar": {
            "outlinewidth": 0,
            "ticks": ""
           }
          },
          "colorscale": {
           "diverging": [
            [
             0,
             "#8e0152"
            ],
            [
             0.1,
             "#c51b7d"
            ],
            [
             0.2,
             "#de77ae"
            ],
            [
             0.3,
             "#f1b6da"
            ],
            [
             0.4,
             "#fde0ef"
            ],
            [
             0.5,
             "#f7f7f7"
            ],
            [
             0.6,
             "#e6f5d0"
            ],
            [
             0.7,
             "#b8e186"
            ],
            [
             0.8,
             "#7fbc41"
            ],
            [
             0.9,
             "#4d9221"
            ],
            [
             1,
             "#276419"
            ]
           ],
           "sequential": [
            [
             0,
             "#0d0887"
            ],
            [
             0.1111111111111111,
             "#46039f"
            ],
            [
             0.2222222222222222,
             "#7201a8"
            ],
            [
             0.3333333333333333,
             "#9c179e"
            ],
            [
             0.4444444444444444,
             "#bd3786"
            ],
            [
             0.5555555555555556,
             "#d8576b"
            ],
            [
             0.6666666666666666,
             "#ed7953"
            ],
            [
             0.7777777777777778,
             "#fb9f3a"
            ],
            [
             0.8888888888888888,
             "#fdca26"
            ],
            [
             1,
             "#f0f921"
            ]
           ],
           "sequentialminus": [
            [
             0,
             "#0d0887"
            ],
            [
             0.1111111111111111,
             "#46039f"
            ],
            [
             0.2222222222222222,
             "#7201a8"
            ],
            [
             0.3333333333333333,
             "#9c179e"
            ],
            [
             0.4444444444444444,
             "#bd3786"
            ],
            [
             0.5555555555555556,
             "#d8576b"
            ],
            [
             0.6666666666666666,
             "#ed7953"
            ],
            [
             0.7777777777777778,
             "#fb9f3a"
            ],
            [
             0.8888888888888888,
             "#fdca26"
            ],
            [
             1,
             "#f0f921"
            ]
           ]
          },
          "colorway": [
           "#636efa",
           "#EF553B",
           "#00cc96",
           "#ab63fa",
           "#FFA15A",
           "#19d3f3",
           "#FF6692",
           "#B6E880",
           "#FF97FF",
           "#FECB52"
          ],
          "font": {
           "color": "#2a3f5f"
          },
          "geo": {
           "bgcolor": "white",
           "lakecolor": "white",
           "landcolor": "#E5ECF6",
           "showlakes": true,
           "showland": true,
           "subunitcolor": "white"
          },
          "hoverlabel": {
           "align": "left"
          },
          "hovermode": "closest",
          "mapbox": {
           "style": "light"
          },
          "paper_bgcolor": "white",
          "plot_bgcolor": "#E5ECF6",
          "polar": {
           "angularaxis": {
            "gridcolor": "white",
            "linecolor": "white",
            "ticks": ""
           },
           "bgcolor": "#E5ECF6",
           "radialaxis": {
            "gridcolor": "white",
            "linecolor": "white",
            "ticks": ""
           }
          },
          "scene": {
           "xaxis": {
            "backgroundcolor": "#E5ECF6",
            "gridcolor": "white",
            "gridwidth": 2,
            "linecolor": "white",
            "showbackground": true,
            "ticks": "",
            "zerolinecolor": "white"
           },
           "yaxis": {
            "backgroundcolor": "#E5ECF6",
            "gridcolor": "white",
            "gridwidth": 2,
            "linecolor": "white",
            "showbackground": true,
            "ticks": "",
            "zerolinecolor": "white"
           },
           "zaxis": {
            "backgroundcolor": "#E5ECF6",
            "gridcolor": "white",
            "gridwidth": 2,
            "linecolor": "white",
            "showbackground": true,
            "ticks": "",
            "zerolinecolor": "white"
           }
          },
          "shapedefaults": {
           "line": {
            "color": "#2a3f5f"
           }
          },
          "ternary": {
           "aaxis": {
            "gridcolor": "white",
            "linecolor": "white",
            "ticks": ""
           },
           "baxis": {
            "gridcolor": "white",
            "linecolor": "white",
            "ticks": ""
           },
           "bgcolor": "#E5ECF6",
           "caxis": {
            "gridcolor": "white",
            "linecolor": "white",
            "ticks": ""
           }
          },
          "title": {
           "x": 0.05
          },
          "xaxis": {
           "automargin": true,
           "gridcolor": "white",
           "linecolor": "white",
           "ticks": "",
           "title": {
            "standoff": 15
           },
           "zerolinecolor": "white",
           "zerolinewidth": 2
          },
          "yaxis": {
           "automargin": true,
           "gridcolor": "white",
           "linecolor": "white",
           "ticks": "",
           "title": {
            "standoff": 15
           },
           "zerolinecolor": "white",
           "zerolinewidth": 2
          }
         }
        },
        "updatemenus": [
         {
          "buttons": [
           {
            "args": [
             {
              "visible": [
               true,
               true,
               false,
               false
              ]
             },
             {
              "title": "Aantal doodden en gewonden westerse landen"
             }
            ],
            "label": "Westerse landen",
            "method": "update"
           },
           {
            "args": [
             {
              "visible": [
               false,
               false,
               true,
               true
              ]
             },
             {
              "title": "Aantal doodden en gewonden niet westerse landen"
             }
            ],
            "label": "Niet westerse landen",
            "method": "update"
           }
          ],
          "direction": "left",
          "type": "buttons"
         }
        ]
       }
      }
     },
     "metadata": {},
     "output_type": "display_data"
    }
   ],
   "source": [
    "fig = go.Figure()\n",
    "fig.add_trace(go.Scatter(x=west[\"country_txt\"].unique(), y=west[\"nkill\"], name=\"Aantal doodde\", mode=\"lines\"))\n",
    "fig.add_trace(go.Scatter(x=west[\"country_txt\"].unique(), y=west[\"nwound\"], name=\"Aantal gewonden\", mode=\"lines\"))\n",
    "\n",
    "fig.add_trace(go.Scatter(x=nonwest[\"country_txt\"].unique(), y=nonwest[\"nkill\"], name=\"Aantal doodde\", mode=\"lines\", visible=False))\n",
    "fig.add_trace(go.Scatter(x=nonwest[\"country_txt\"].unique(), y=nonwest[\"nwound\"], name=\"Aantal gewonden\", mode=\"lines\", visible=False))\n",
    "\n",
    "fig = fig.update_layout(\n",
    "            updatemenus=[\n",
    "                dict(\n",
    "                type = 'buttons',\n",
    "                direction = 'left',\n",
    "                buttons =list([\n",
    "                    dict(\n",
    "                        label = \"Westerse landen\",\n",
    "                        method=\"update\",\n",
    "                        args=[{\"visible\": [True, True, False, False]},\n",
    "                             {\"title\": \"Aantal doodden en gewonden westerse landen\"}]   \n",
    "                    ),\n",
    "                     dict(\n",
    "                        label = \"Niet westerse landen\",\n",
    "                        method=\"update\",\n",
    "                        args=[{\"visible\": [False, False, True, True]},\n",
    "                             {\"title\": \"Aantal doodden en gewonden niet westerse landen\"}]   \n",
    "                    )\n",
    "                ])\n",
    "                )\n",
    "            ])\n",
    "\n",
    "\n",
    "fig.show()"
   ]
  },
  {
   "cell_type": "markdown",
   "metadata": {},
   "source": [
    "In vergelijking met het vorige figuur wordt het argument met betrekking tot het dodenaantal (en het aantal gewonden) in westerse landen weerlegd door de bovenstaand figuur. Deze visualisatie laat zien dat er in niet-westerse landen een stuk meer doden en gewonden zijn als gevolg van aanslagen in vergelijking met westerse landen. Indien de media hun berichtgeving zou baseren op het aantal doden en gewonden, zouden juist niet-westerse landen meer belicht moeten worden.\n",
    "\n",
    "Deze observatie roept belangrijke vragen op over de manier waarop de media aanslagen selecteert en belicht. Als het criterium voor berichtgeving inderdaad het aantal slachtoffers is, zou men verwachten dat niet-westerse landen meer aandacht krijgen vanwege de hogere aantallen doden en gewonden. Het feit dat dit niet altijd het geval lijkt te zijn, suggereert wederom dat er mogelijk andere factoren een rol spelen bij de keuze van de media om bepaalde aanslagen te benadrukken."
   ]
  },
  {
   "cell_type": "code",
   "execution_count": 7,
   "metadata": {
    "tags": [
     "hide-input"
    ]
   },
   "outputs": [
    {
     "data": {
      "application/vnd.plotly.v1+json": {
       "config": {
        "plotlyServerURL": "https://plot.ly"
       },
       "data": [
        {
         "insidetextorientation": "radial",
         "labels": [
          "Afghanistan",
          "Albania",
          "Algeria",
          "Angola",
          "Antigua and Barbuda",
          "Argentina",
          "Armenia",
          "Azerbaijan",
          "Bahamas",
          "Bahrain",
          "Bangladesh",
          "Barbados",
          "Belize",
          "Benin",
          "Bhutan",
          "Bolivia",
          "Botswana",
          "Brazil",
          "Brunei",
          "Bulgaria",
          "Burkina Faso",
          "Burundi",
          "Belarus",
          "Cambodia",
          "Cameroon",
          "Central African Republic",
          "Chad",
          "Chile",
          "China",
          "Colombia",
          "Comoros",
          "Costa Rica",
          "Croatia",
          "Cuba",
          "Czech Republic",
          "Djibouti",
          "Dominica",
          "Dominican Republic",
          "Ecuador",
          "Egypt",
          "El Salvador",
          "Equatorial Guinea",
          "Eritrea",
          "Estonia",
          "Ethiopia",
          "Gabon",
          "Gambia",
          "Georgia",
          "Ghana",
          "Grenada",
          "Guatemala",
          "Guinea",
          "Guinea-Bissau",
          "Guyana",
          "Haiti",
          "Honduras",
          "Hungary",
          "India",
          "Indonesia",
          "Iran",
          "Iraq",
          "Israel",
          "Jamaica",
          "Japan",
          "Jordan",
          "Kazakhstan",
          "Kenya",
          "Kuwait",
          "Kyrgyzstan",
          "Laos",
          "Latvia",
          "Lebanon",
          "Lesotho",
          "Liberia",
          "Libya",
          "Lithuania",
          "Madagascar",
          "Malawi",
          "Malaysia",
          "Maldives",
          "Mali",
          "Mauritania",
          "Mauritius",
          "Moldova",
          "Morocco",
          "Mozambique",
          "Myanmar",
          "Namibia",
          "Nepal",
          "Nicaragua",
          "Niger",
          "Nigeria",
          "North Korea",
          "Pakistan",
          "Panama",
          "Paraguay",
          "Peru",
          "Philippines",
          "Poland",
          "Qatar",
          "Romania",
          "Russia",
          "Rwanda",
          "Saudi Arabia",
          "Senegal",
          "Seychelles",
          "Sierra Leone",
          "Singapore",
          "Slovenia",
          "Somalia",
          "South Africa",
          "South Korea",
          "Sri Lanka",
          "Sudan",
          "Suriname",
          "Swaziland",
          "Syria",
          "Tajikistan",
          "Tanzania",
          "Togo",
          "Thailand",
          "Trinidad and Tobago",
          "Tunisia",
          "Turkey",
          "Turkmenistan",
          "Uganda",
          "Ukraine",
          "United Arab Emirates",
          "Uruguay",
          "Uzbekistan",
          "Venezuela",
          "Yemen",
          "Zambia",
          "Zimbabwe",
          "Serbia",
          "Montenegro",
          "South Sudan"
         ],
         "textinfo": "none",
         "type": "pie",
         "values": [
          12731,
          80,
          2743,
          499,
          1,
          815,
          24,
          49,
          5,
          207,
          1648,
          3,
          8,
          8,
          6,
          314,
          10,
          273,
          6,
          52,
          52,
          613,
          13,
          259,
          332,
          283,
          91,
          2365,
          252,
          8306,
          5,
          67,
          57,
          30,
          32,
          22,
          3,
          90,
          220,
          2479,
          5320,
          2,
          10,
          16,
          190,
          8,
          3,
          217,
          19,
          5,
          2050,
          25,
          9,
          26,
          213,
          323,
          46,
          11960,
          761,
          684,
          24636,
          2183,
          36,
          402,
          113,
          27,
          683,
          76,
          35,
          27,
          17,
          2478,
          29,
          34,
          2249,
          8,
          27,
          5,
          99,
          22,
          566,
          18,
          2,
          21,
          36,
          363,
          546,
          151,
          1215,
          1970,
          154,
          3907,
          1,
          14368,
          127,
          114,
          6096,
          6908,
          39,
          7,
          6,
          2194,
          159,
          371,
          118,
          2,
          101,
          7,
          6,
          4142,
          2016,
          38,
          3022,
          967,
          66,
          16,
          2201,
          188,
          59,
          48,
          3849,
          22,
          109,
          4292,
          2,
          394,
          1709,
          22,
          82,
          21,
          293,
          3347,
          62,
          101,
          12,
          5,
          225
         ]
        }
       ],
       "layout": {
        "template": {
         "data": {
          "bar": [
           {
            "error_x": {
             "color": "#2a3f5f"
            },
            "error_y": {
             "color": "#2a3f5f"
            },
            "marker": {
             "line": {
              "color": "#E5ECF6",
              "width": 0.5
             },
             "pattern": {
              "fillmode": "overlay",
              "size": 10,
              "solidity": 0.2
             }
            },
            "type": "bar"
           }
          ],
          "barpolar": [
           {
            "marker": {
             "line": {
              "color": "#E5ECF6",
              "width": 0.5
             },
             "pattern": {
              "fillmode": "overlay",
              "size": 10,
              "solidity": 0.2
             }
            },
            "type": "barpolar"
           }
          ],
          "carpet": [
           {
            "aaxis": {
             "endlinecolor": "#2a3f5f",
             "gridcolor": "white",
             "linecolor": "white",
             "minorgridcolor": "white",
             "startlinecolor": "#2a3f5f"
            },
            "baxis": {
             "endlinecolor": "#2a3f5f",
             "gridcolor": "white",
             "linecolor": "white",
             "minorgridcolor": "white",
             "startlinecolor": "#2a3f5f"
            },
            "type": "carpet"
           }
          ],
          "choropleth": [
           {
            "colorbar": {
             "outlinewidth": 0,
             "ticks": ""
            },
            "type": "choropleth"
           }
          ],
          "contour": [
           {
            "colorbar": {
             "outlinewidth": 0,
             "ticks": ""
            },
            "colorscale": [
             [
              0,
              "#0d0887"
             ],
             [
              0.1111111111111111,
              "#46039f"
             ],
             [
              0.2222222222222222,
              "#7201a8"
             ],
             [
              0.3333333333333333,
              "#9c179e"
             ],
             [
              0.4444444444444444,
              "#bd3786"
             ],
             [
              0.5555555555555556,
              "#d8576b"
             ],
             [
              0.6666666666666666,
              "#ed7953"
             ],
             [
              0.7777777777777778,
              "#fb9f3a"
             ],
             [
              0.8888888888888888,
              "#fdca26"
             ],
             [
              1,
              "#f0f921"
             ]
            ],
            "type": "contour"
           }
          ],
          "contourcarpet": [
           {
            "colorbar": {
             "outlinewidth": 0,
             "ticks": ""
            },
            "type": "contourcarpet"
           }
          ],
          "heatmap": [
           {
            "colorbar": {
             "outlinewidth": 0,
             "ticks": ""
            },
            "colorscale": [
             [
              0,
              "#0d0887"
             ],
             [
              0.1111111111111111,
              "#46039f"
             ],
             [
              0.2222222222222222,
              "#7201a8"
             ],
             [
              0.3333333333333333,
              "#9c179e"
             ],
             [
              0.4444444444444444,
              "#bd3786"
             ],
             [
              0.5555555555555556,
              "#d8576b"
             ],
             [
              0.6666666666666666,
              "#ed7953"
             ],
             [
              0.7777777777777778,
              "#fb9f3a"
             ],
             [
              0.8888888888888888,
              "#fdca26"
             ],
             [
              1,
              "#f0f921"
             ]
            ],
            "type": "heatmap"
           }
          ],
          "heatmapgl": [
           {
            "colorbar": {
             "outlinewidth": 0,
             "ticks": ""
            },
            "colorscale": [
             [
              0,
              "#0d0887"
             ],
             [
              0.1111111111111111,
              "#46039f"
             ],
             [
              0.2222222222222222,
              "#7201a8"
             ],
             [
              0.3333333333333333,
              "#9c179e"
             ],
             [
              0.4444444444444444,
              "#bd3786"
             ],
             [
              0.5555555555555556,
              "#d8576b"
             ],
             [
              0.6666666666666666,
              "#ed7953"
             ],
             [
              0.7777777777777778,
              "#fb9f3a"
             ],
             [
              0.8888888888888888,
              "#fdca26"
             ],
             [
              1,
              "#f0f921"
             ]
            ],
            "type": "heatmapgl"
           }
          ],
          "histogram": [
           {
            "marker": {
             "pattern": {
              "fillmode": "overlay",
              "size": 10,
              "solidity": 0.2
             }
            },
            "type": "histogram"
           }
          ],
          "histogram2d": [
           {
            "colorbar": {
             "outlinewidth": 0,
             "ticks": ""
            },
            "colorscale": [
             [
              0,
              "#0d0887"
             ],
             [
              0.1111111111111111,
              "#46039f"
             ],
             [
              0.2222222222222222,
              "#7201a8"
             ],
             [
              0.3333333333333333,
              "#9c179e"
             ],
             [
              0.4444444444444444,
              "#bd3786"
             ],
             [
              0.5555555555555556,
              "#d8576b"
             ],
             [
              0.6666666666666666,
              "#ed7953"
             ],
             [
              0.7777777777777778,
              "#fb9f3a"
             ],
             [
              0.8888888888888888,
              "#fdca26"
             ],
             [
              1,
              "#f0f921"
             ]
            ],
            "type": "histogram2d"
           }
          ],
          "histogram2dcontour": [
           {
            "colorbar": {
             "outlinewidth": 0,
             "ticks": ""
            },
            "colorscale": [
             [
              0,
              "#0d0887"
             ],
             [
              0.1111111111111111,
              "#46039f"
             ],
             [
              0.2222222222222222,
              "#7201a8"
             ],
             [
              0.3333333333333333,
              "#9c179e"
             ],
             [
              0.4444444444444444,
              "#bd3786"
             ],
             [
              0.5555555555555556,
              "#d8576b"
             ],
             [
              0.6666666666666666,
              "#ed7953"
             ],
             [
              0.7777777777777778,
              "#fb9f3a"
             ],
             [
              0.8888888888888888,
              "#fdca26"
             ],
             [
              1,
              "#f0f921"
             ]
            ],
            "type": "histogram2dcontour"
           }
          ],
          "mesh3d": [
           {
            "colorbar": {
             "outlinewidth": 0,
             "ticks": ""
            },
            "type": "mesh3d"
           }
          ],
          "parcoords": [
           {
            "line": {
             "colorbar": {
              "outlinewidth": 0,
              "ticks": ""
             }
            },
            "type": "parcoords"
           }
          ],
          "pie": [
           {
            "automargin": true,
            "type": "pie"
           }
          ],
          "scatter": [
           {
            "fillpattern": {
             "fillmode": "overlay",
             "size": 10,
             "solidity": 0.2
            },
            "type": "scatter"
           }
          ],
          "scatter3d": [
           {
            "line": {
             "colorbar": {
              "outlinewidth": 0,
              "ticks": ""
             }
            },
            "marker": {
             "colorbar": {
              "outlinewidth": 0,
              "ticks": ""
             }
            },
            "type": "scatter3d"
           }
          ],
          "scattercarpet": [
           {
            "marker": {
             "colorbar": {
              "outlinewidth": 0,
              "ticks": ""
             }
            },
            "type": "scattercarpet"
           }
          ],
          "scattergeo": [
           {
            "marker": {
             "colorbar": {
              "outlinewidth": 0,
              "ticks": ""
             }
            },
            "type": "scattergeo"
           }
          ],
          "scattergl": [
           {
            "marker": {
             "colorbar": {
              "outlinewidth": 0,
              "ticks": ""
             }
            },
            "type": "scattergl"
           }
          ],
          "scattermapbox": [
           {
            "marker": {
             "colorbar": {
              "outlinewidth": 0,
              "ticks": ""
             }
            },
            "type": "scattermapbox"
           }
          ],
          "scatterpolar": [
           {
            "marker": {
             "colorbar": {
              "outlinewidth": 0,
              "ticks": ""
             }
            },
            "type": "scatterpolar"
           }
          ],
          "scatterpolargl": [
           {
            "marker": {
             "colorbar": {
              "outlinewidth": 0,
              "ticks": ""
             }
            },
            "type": "scatterpolargl"
           }
          ],
          "scatterternary": [
           {
            "marker": {
             "colorbar": {
              "outlinewidth": 0,
              "ticks": ""
             }
            },
            "type": "scatterternary"
           }
          ],
          "surface": [
           {
            "colorbar": {
             "outlinewidth": 0,
             "ticks": ""
            },
            "colorscale": [
             [
              0,
              "#0d0887"
             ],
             [
              0.1111111111111111,
              "#46039f"
             ],
             [
              0.2222222222222222,
              "#7201a8"
             ],
             [
              0.3333333333333333,
              "#9c179e"
             ],
             [
              0.4444444444444444,
              "#bd3786"
             ],
             [
              0.5555555555555556,
              "#d8576b"
             ],
             [
              0.6666666666666666,
              "#ed7953"
             ],
             [
              0.7777777777777778,
              "#fb9f3a"
             ],
             [
              0.8888888888888888,
              "#fdca26"
             ],
             [
              1,
              "#f0f921"
             ]
            ],
            "type": "surface"
           }
          ],
          "table": [
           {
            "cells": {
             "fill": {
              "color": "#EBF0F8"
             },
             "line": {
              "color": "white"
             }
            },
            "header": {
             "fill": {
              "color": "#C8D4E3"
             },
             "line": {
              "color": "white"
             }
            },
            "type": "table"
           }
          ]
         },
         "layout": {
          "annotationdefaults": {
           "arrowcolor": "#2a3f5f",
           "arrowhead": 0,
           "arrowwidth": 1
          },
          "autotypenumbers": "strict",
          "coloraxis": {
           "colorbar": {
            "outlinewidth": 0,
            "ticks": ""
           }
          },
          "colorscale": {
           "diverging": [
            [
             0,
             "#8e0152"
            ],
            [
             0.1,
             "#c51b7d"
            ],
            [
             0.2,
             "#de77ae"
            ],
            [
             0.3,
             "#f1b6da"
            ],
            [
             0.4,
             "#fde0ef"
            ],
            [
             0.5,
             "#f7f7f7"
            ],
            [
             0.6,
             "#e6f5d0"
            ],
            [
             0.7,
             "#b8e186"
            ],
            [
             0.8,
             "#7fbc41"
            ],
            [
             0.9,
             "#4d9221"
            ],
            [
             1,
             "#276419"
            ]
           ],
           "sequential": [
            [
             0,
             "#0d0887"
            ],
            [
             0.1111111111111111,
             "#46039f"
            ],
            [
             0.2222222222222222,
             "#7201a8"
            ],
            [
             0.3333333333333333,
             "#9c179e"
            ],
            [
             0.4444444444444444,
             "#bd3786"
            ],
            [
             0.5555555555555556,
             "#d8576b"
            ],
            [
             0.6666666666666666,
             "#ed7953"
            ],
            [
             0.7777777777777778,
             "#fb9f3a"
            ],
            [
             0.8888888888888888,
             "#fdca26"
            ],
            [
             1,
             "#f0f921"
            ]
           ],
           "sequentialminus": [
            [
             0,
             "#0d0887"
            ],
            [
             0.1111111111111111,
             "#46039f"
            ],
            [
             0.2222222222222222,
             "#7201a8"
            ],
            [
             0.3333333333333333,
             "#9c179e"
            ],
            [
             0.4444444444444444,
             "#bd3786"
            ],
            [
             0.5555555555555556,
             "#d8576b"
            ],
            [
             0.6666666666666666,
             "#ed7953"
            ],
            [
             0.7777777777777778,
             "#fb9f3a"
            ],
            [
             0.8888888888888888,
             "#fdca26"
            ],
            [
             1,
             "#f0f921"
            ]
           ]
          },
          "colorway": [
           "#636efa",
           "#EF553B",
           "#00cc96",
           "#ab63fa",
           "#FFA15A",
           "#19d3f3",
           "#FF6692",
           "#B6E880",
           "#FF97FF",
           "#FECB52"
          ],
          "font": {
           "color": "#2a3f5f"
          },
          "geo": {
           "bgcolor": "white",
           "lakecolor": "white",
           "landcolor": "#E5ECF6",
           "showlakes": true,
           "showland": true,
           "subunitcolor": "white"
          },
          "hoverlabel": {
           "align": "left"
          },
          "hovermode": "closest",
          "mapbox": {
           "style": "light"
          },
          "paper_bgcolor": "white",
          "plot_bgcolor": "#E5ECF6",
          "polar": {
           "angularaxis": {
            "gridcolor": "white",
            "linecolor": "white",
            "ticks": ""
           },
           "bgcolor": "#E5ECF6",
           "radialaxis": {
            "gridcolor": "white",
            "linecolor": "white",
            "ticks": ""
           }
          },
          "scene": {
           "xaxis": {
            "backgroundcolor": "#E5ECF6",
            "gridcolor": "white",
            "gridwidth": 2,
            "linecolor": "white",
            "showbackground": true,
            "ticks": "",
            "zerolinecolor": "white"
           },
           "yaxis": {
            "backgroundcolor": "#E5ECF6",
            "gridcolor": "white",
            "gridwidth": 2,
            "linecolor": "white",
            "showbackground": true,
            "ticks": "",
            "zerolinecolor": "white"
           },
           "zaxis": {
            "backgroundcolor": "#E5ECF6",
            "gridcolor": "white",
            "gridwidth": 2,
            "linecolor": "white",
            "showbackground": true,
            "ticks": "",
            "zerolinecolor": "white"
           }
          },
          "shapedefaults": {
           "line": {
            "color": "#2a3f5f"
           }
          },
          "ternary": {
           "aaxis": {
            "gridcolor": "white",
            "linecolor": "white",
            "ticks": ""
           },
           "baxis": {
            "gridcolor": "white",
            "linecolor": "white",
            "ticks": ""
           },
           "bgcolor": "#E5ECF6",
           "caxis": {
            "gridcolor": "white",
            "linecolor": "white",
            "ticks": ""
           }
          },
          "title": {
           "x": 0.05
          },
          "xaxis": {
           "automargin": true,
           "gridcolor": "white",
           "linecolor": "white",
           "ticks": "",
           "title": {
            "standoff": 15
           },
           "zerolinecolor": "white",
           "zerolinewidth": 2
          },
          "yaxis": {
           "automargin": true,
           "gridcolor": "white",
           "linecolor": "white",
           "ticks": "",
           "title": {
            "standoff": 15
           },
           "zerolinecolor": "white",
           "zerolinewidth": 2
          }
         }
        },
        "title": {
         "text": "Procentuele bijdrage per niet-westers land"
        }
       }
      }
     },
     "metadata": {},
     "output_type": "display_data"
    }
   ],
   "source": [
    "labels = nonwest['country_txt']\n",
    "values = nonwest['Event']\n",
    "\n",
    "fig = go.Figure(data=[go.Pie(labels=labels, values=values, textinfo='none',\n",
    "                            insidetextorientation='radial'\n",
    "                            )])\n",
    "\n",
    "fig = fig.update_layout(title = \"Procentuele bijdrage per niet-westers land\")\n",
    "\n",
    "fig.show()"
   ]
  },
  {
   "cell_type": "markdown",
   "metadata": {},
   "source": [
    "De pie chart hierboven toont het aantal aanslagen in niet-westerse landen en geeft aan welk percentage elk land bijdraagt aan het totale aantal aanslagen. Deze visuele weergave benadrukt het belang van niet-westerse landen in termen van het absolute aantal aanslagen.\n",
    "\n",
    "De top 3 landen met de meeste aanslagen zijn Irak, Pakistan en Afganistan. In alle drie de landen is of was er oorlog. Een oorlog zorgt vanzelfsprekend voor meer terreur en aanslagen. Deze oorlogen zijn al langere tijd gaande. Het is al erg vaak in het nieuws geweest en er zijn weinig nieuwe ontwikkelingen. Dit maakt dat de media ervoor zal kiezen om andere dingen te laten zien. Ook dit zorgt er op zijn tijd weer voor dat er meer in de media te zien is over de aanslagen is het westen.\n",
    "\n",
    "Echter kan er door de media aandacht voornamelijk te richten op aanslagen in westerse landen een vertekend beeld ontstaan van het wereldwijde terrorisme. Het is essentieel om een evenwichtige en objectieve verslaggeving na te streven die recht doet aan de werkelijke verdeling van aanslagen over de wereld. Dit betekent dat er meer aandacht moet worden besteed aan niet-westerse landen, waar het aantal aanslagen vaak aanzienlijk is.\n",
    "\n",
    "Het is van belang om de complexiteit van deze kwestie te erkennen en te streven naar een gebalanceerde verslaggeving die recht doet aan de realiteit van terrorisme, ongeacht de geografische locatie. Het bevorderen van een genuanceerde discussie over de rol van de media bij het vormgeven van het publieke bewustzijn is van essentieel belang om een beter begrip te krijgen van de dynamiek rondom aanslagen en de gevolgen ervan op de samenleving als geheel."
   ]
  },
  {
   "cell_type": "markdown",
   "metadata": {},
   "source": [
    "### Reflectie\n",
    "\n",
    "\n",
    "Voor mij (Hussam) was het project een stuk gemakkelijker dan vorig jaar. Ik kon namelijk inspiratie putten uit mijn werk van het voorgaande jaar. Op die manier wist ik hoe ik fouten zoals \"Visualization flaws\" en \"Argument flaws\" kon vermijden. Bovendien kon Anna haar werk (vooral de visualisaties) van vorig jaar aanpassen en gebruiken voor dit project. Met deze twee inzichten hadden we een goede start voor het project. Daarna heb ik voornamelijk samengewerkt met Anna om de hele opdracht af te ronden, terwijl de andere twee groepsleden helaas niet effectief hebben bijgedragen aan de opdracht. De communicatie verliep ook niet zoals verwacht. Ik had een groepsapp aangemaakt zodat we allemaal gemakkelijk en snel konden communiceren, maar dat bleek nutteloos te zijn. Ik vind dat we een betere eindversie van het project hadden kunnen inleveren als de samenwerking binnen de hele groep beter was geweest. Bovendien had ik geen mogelijkheid om fysiek aanwezig te zijn voor peer- (of TA-) feedback. Deze gemiste feedback had ons bewust kunnen maken van mogelijke fouten in onze datastory. Desondanks hebben we (vooral Anna) de datastory aangepast op basis van de geschreven feedback die onze TA online heeft gegeven. We hebben de perspectieven duidelijk aangegeven in de inleiding en zijn hier dieper op ingegaan, samen met de bijbehorende argumenten, in de sectie 'Perspectieven en argumenten'. Daarnaast hebben we de volgorde van de visualisaties veranderd, zodat alle visualisaties goed bij elkaar passen en de tekst goed verloopt. Verder heb ik het maximale uit het project gehaald en heb ik er veel van geleerd.\n",
    "\n",
    "Zelf (Anna) moest ik even schakelen naar de format van dit jaar t.o.v. vorig jaar. Qua communicatie ging het met 1 groepsgenoot erg goed (Hussam), echter ging het met de andere twee niet goed. Ik kreeg weinig gehoor van hen en ze hebben ook erg weinig gedaan.. \n",
    "Tim had enkel een beetje tekst geschreven die helaas niet klopte met de opdracht. Vervolgens heeft Mahamed hetzelfde gedaan. Ik heb geprobeerd contact met ze te krijgen helaas ging dit niet. Ik denk dat als zij een actievere werkhouding hadden het beter verlopen was. Nu zaten ze eigenlijk alleen maar Hussam en mij in de weg ipv dat we dit project met zn allen aan het maken waren."
   ]
  },
  {
   "cell_type": "markdown",
   "metadata": {},
   "source": [
    "### Werkverdeling\n",
    "\n",
    "Anna: Code geschreven voor vier visualisaties en tekst geschreven\\aangepast.\n",
    "\n",
    "Hussam: Code geschreven voor twee visualisaties, de tekst continu aangepast, de opmaak van de datastory vastgesteld en alles op Git geregeld.\n",
    "\n",
    "Tim & Mahamed: Klein beetje tekst geschreven (zie reflectie)."
   ]
  },
  {
   "cell_type": "markdown",
   "metadata": {},
   "source": [
    "### Referentielijst\n",
    "\n",
    "1. Jetter, Michael. (2014). Terrorism and the Media. \n",
    "\n",
    "https://papers.ssrn.com/sol3/papers.cfm?abstract_id=2505359\n",
    "\n",
    "\n",
    "2. Artikel, 'Precies twintig jaar geleden begon de oorlog tegen Irak, met hulp van propagandaoffensief Nederland'.\n",
    "\n",
    "https://www.bnnvara.nl/joop/artikelen/precies-twintig-jaar-geleden-begon-de-oorlog-tegen-irak-met-hulp-van-propagandaoffensief-nederland"
   ]
  },
  {
   "cell_type": "markdown",
   "metadata": {},
   "source": [
    "### Appendix \n",
    "\n",
    "Generatieve AI (ChatGPT met GPT-3.5) wordt gebruikt om het project met succesvol af te ronden. De doel van het gebruik van ChatGPT is vooral om de schrijfstijl van de datastory te verbeteren."
   ]
  },
  {
   "cell_type": "code",
   "execution_count": 21,
   "metadata": {
    "tags": [
     "hide-input"
    ]
   },
   "outputs": [
    {
     "data": {
      "text/markdown": [
       "Overzicht van ChatGPT gebruik"
      ],
      "text/plain": [
       "<IPython.core.display.Markdown object>"
      ]
     },
     "metadata": {},
     "output_type": "display_data"
    },
    {
     "data": {
      "text/html": [
       "<div>\n",
       "<style scoped>\n",
       "    .dataframe tbody tr th:only-of-type {\n",
       "        vertical-align: middle;\n",
       "    }\n",
       "\n",
       "    .dataframe tbody tr th {\n",
       "        vertical-align: top;\n",
       "    }\n",
       "\n",
       "    .dataframe thead th {\n",
       "        text-align: right;\n",
       "    }\n",
       "</style>\n",
       "<table border=\"1\" class=\"dataframe\">\n",
       "  <thead>\n",
       "    <tr style=\"text-align: right;\">\n",
       "      <th></th>\n",
       "      <th>Reden van gebruik</th>\n",
       "      <th>In welke onderdelen?</th>\n",
       "      <th>Welke prompts werden gebruikt?</th>\n",
       "    </tr>\n",
       "  </thead>\n",
       "  <tbody>\n",
       "    <tr>\n",
       "      <th>0</th>\n",
       "      <td>schrijfstijl verbeteren</td>\n",
       "      <td>Introductie</td>\n",
       "      <td>\"Verbeter de schrijfstijl van de introductie\"</td>\n",
       "    </tr>\n",
       "    <tr>\n",
       "      <th>1</th>\n",
       "      <td>schrijfstijl verbeteren</td>\n",
       "      <td>Perspectieven en argumentaties</td>\n",
       "      <td>\"Verbeter de schrijfstijl van de tekst\"</td>\n",
       "    </tr>\n",
       "    <tr>\n",
       "      <th>2</th>\n",
       "      <td>Een choropleth map maken</td>\n",
       "      <td>Perspectieven en argumentaties</td>\n",
       "      <td>\"how to create a choropleth map using Plotly E...</td>\n",
       "    </tr>\n",
       "  </tbody>\n",
       "</table>\n",
       "</div>"
      ],
      "text/plain": [
       "          Reden van gebruik            In welke onderdelen?  \\\n",
       "0   schrijfstijl verbeteren                     Introductie   \n",
       "1   schrijfstijl verbeteren  Perspectieven en argumentaties   \n",
       "2  Een choropleth map maken  Perspectieven en argumentaties   \n",
       "\n",
       "                      Welke prompts werden gebruikt?  \n",
       "0      \"Verbeter de schrijfstijl van de introductie\"  \n",
       "1            \"Verbeter de schrijfstijl van de tekst\"  \n",
       "2  \"how to create a choropleth map using Plotly E...  "
      ]
     },
     "metadata": {},
     "output_type": "display_data"
    }
   ],
   "source": [
    "import pandas as pd\n",
    "from IPython.display import display, Markdown\n",
    "\n",
    "# Maak een lijst met de gegevens voor elke kolom\n",
    "reasons = ['schrijfstijl verbeteren', 'schrijfstijl verbeteren', 'Een choropleth map maken']\n",
    "parts = ['Introductie', 'Perspectieven en argumentaties', 'Perspectieven en argumentaties']\n",
    "prompts = ['\"Verbeter de schrijfstijl van de introductie\"', '\"Verbeter de schrijfstijl van de tekst\"', '\"how to create a choropleth map using Plotly Express\"']\n",
    "\n",
    "# Maak een DataFrame met de gegevens\n",
    "data = {'Reden van gebruik': reasons, 'In welke onderdelen?': parts, 'Welke prompts werden gebruikt?': prompts}\n",
    "df = pd.DataFrame(data)\n",
    "\n",
    "# Voeg een titel toe aan de DataFrame\n",
    "df_title = \"Overzicht van ChatGPT gebruik\"\n",
    "\n",
    "# Voeg een Markdown-cel toe met de titel en de DataFrame\n",
    "display(Markdown(\"Overzicht van ChatGPT gebruik\"))\n",
    "display(df)"
   ]
  },
  {
   "cell_type": "code",
   "execution_count": null,
   "metadata": {},
   "outputs": [],
   "source": []
  }
 ],
 "metadata": {
  "celltoolbar": "Edit Metadata",
  "kernelspec": {
   "display_name": "Python 3 (ipykernel)",
   "language": "python",
   "name": "python3"
  },
  "language_info": {
   "codemirror_mode": {
    "name": "ipython",
    "version": 3
   },
   "file_extension": ".py",
   "mimetype": "text/x-python",
   "name": "python",
   "nbconvert_exporter": "python",
   "pygments_lexer": "ipython3",
   "version": "3.11.2"
  },
  "vscode": {
   "interpreter": {
    "hash": "ead1b95f633dc9c51826328e1846203f51a198c6fb5f2884a80417ba131d4e82"
   }
  },
  "widgets": {
   "application/vnd.jupyter.widget-state+json": {
    "state": {},
    "version_major": 2,
    "version_minor": 0
   }
  }
 },
 "nbformat": 4,
 "nbformat_minor": 4
}
