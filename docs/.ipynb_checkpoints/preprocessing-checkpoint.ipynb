{
 "cells": [
  {
   "cell_type": "code",
   "execution_count": null,
   "id": "0b191d7a",
   "metadata": {},
   "outputs": [],
   "source": [
    "'''\n",
    "Nb. for the sake of memory on GithubPages, we have modified the global terrorism database and filtered the columns accoording to our needs. \n",
    "This step is discarded in the code and it has been done before starting with the actual preprocessing of the data. \n",
    "So now we have only 14 columns instead of 135.\n",
    "'''\n",
    "# Import packages\n",
    "import pandas as pd\n",
    "import plotly.express as px\n",
    "import plotly.graph_objs as go\n",
    "\n",
    "# Load global terrorism and population datasets using pandas\n",
    "df_1 = pd.read_csv('globalterrorismdb_0718dist.csv', encoding = 'latin-1', low_memory = False)\n",
    "df_2 = pd.read_csv('Population.csv')"
   ]
  },
  {
   "cell_type": "code",
   "execution_count": null,
   "id": "979c5a79",
   "metadata": {},
   "outputs": [],
   "source": [
    "#data preprocessing\n",
    "df_1['west_or_not'] = df_1['region'].apply(lambda x: '1' if x == 1 or x == 12 or x == 8 else '0')\n",
    "df_1['Event'] = 1\n",
    "\n",
    "population = df_2.sort_values(by=['country_txt'])\n",
    "\n",
    "filtered = df_1.filter(items=['country', 'Event', 'success', 'nkill', 'nwound'])\n",
    "grouped = filtered.groupby(\"country\").sum()\n",
    "grouped = grouped.sort_values(by=['country'])\n",
    "\n",
    "filteredwest = df_1.filter(items=['country', 'country_txt', 'west_or_not'])\n",
    "groupedwest = filteredwest.drop_duplicates(subset=['country'])\n",
    "groupedwest = groupedwest.sort_values(by=['country'])\n",
    "\n",
    "totalset = groupedwest.join(grouped, how=\"inner\", on=\"country\")\n",
    "totalset = totalset.merge(population, how='inner', on='country_txt')\n",
    "totalset = totalset.drop(columns=['country', 'World', '#']) \n",
    "\n",
    "totalset = totalset.reset_index()\n",
    "totalset = totalset.drop(columns=[\"index\"])\n",
    "\n",
    "west = totalset[totalset['west_or_not'] != '0']\n",
    "nonwest = totalset[totalset['west_or_not'] != '1']"
   ]
  },
  {
   "cell_type": "code",
   "execution_count": null,
   "id": "b57fe66e",
   "metadata": {},
   "outputs": [],
   "source": [
    "def cases_count(df_1, column_name):\n",
    "\n",
    "    cases_count = df_1.groupby(column_name)['eventid'].count()\n",
    "    \n",
    "    # Create a new DataFrame from the Series object\n",
    "    cases_count_df = pd.DataFrame({column_name: cases_count.index, 'Aantal gevallen': cases_count.values})\n",
    "\n",
    "    # Sort the DataFrame by the number of cases ('Aantal gevallen') column in descending order\n",
    "    cases_count_df = cases_count_df.sort_values('Aantal gevallen', ascending=False)\n",
    "    \n",
    "    \n",
    "    return cases_count_df\n",
    "\n",
    "def cases_sum(df_1, col_group_by, value):\n",
    "\n",
    "    cases_sum = df_1.groupby(col_group_by)[value].sum()\n",
    "    \n",
    "    # Create a new DataFrame from the Series object\n",
    "    cases_sum_df = pd.DataFrame({col_group_by: cases_sum.index, value: cases_sum.values})\n",
    "\n",
    "    # Sort the DataFrame by the number of cases ('Aantal gevallen') column in descending order\n",
    "    cases_sum_df = cases_sum_df.sort_values(value, ascending=False)\n",
    "    \n",
    "    \n",
    "    return cases_sum_df"
   ]
  }
 ],
 "metadata": {
  "kernelspec": {
   "display_name": "Python 3 (ipykernel)",
   "language": "python",
   "name": "python3"
  },
  "language_info": {
   "codemirror_mode": {
    "name": "ipython",
    "version": 3
   },
   "file_extension": ".py",
   "mimetype": "text/x-python",
   "name": "python",
   "nbconvert_exporter": "python",
   "pygments_lexer": "ipython3",
   "version": "3.11.2"
  }
 },
 "nbformat": 4,
 "nbformat_minor": 5
}
